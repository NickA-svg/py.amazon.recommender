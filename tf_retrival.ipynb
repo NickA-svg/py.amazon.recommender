{
 "cells": [
  {
   "cell_type": "code",
   "execution_count": 1,
   "source": [
    "import tensorflow as tf\n",
    "import pandas as pd\n",
    "import numpy as np\n",
    "import matplotlib.pyplot as plt\n",
    "import seaborn as sns\n",
    "from dfply import *\n",
    "import tensorflow_recommenders as tfrs\n",
    "\n",
    "%matplotlib inline"
   ],
   "outputs": [],
   "metadata": {}
  },
  {
   "cell_type": "code",
   "execution_count": 2,
   "source": [
    "df = pd.read_csv(\"./data/ratings_Electronics.csv\", names=['userId', 'productId','rating','timestamp'])"
   ],
   "outputs": [],
   "metadata": {}
  },
  {
   "cell_type": "code",
   "execution_count": 3,
   "source": [
    "df.head()"
   ],
   "outputs": [
    {
     "output_type": "execute_result",
     "data": {
      "text/html": [
       "<div>\n",
       "<style scoped>\n",
       "    .dataframe tbody tr th:only-of-type {\n",
       "        vertical-align: middle;\n",
       "    }\n",
       "\n",
       "    .dataframe tbody tr th {\n",
       "        vertical-align: top;\n",
       "    }\n",
       "\n",
       "    .dataframe thead th {\n",
       "        text-align: right;\n",
       "    }\n",
       "</style>\n",
       "<table border=\"1\" class=\"dataframe\">\n",
       "  <thead>\n",
       "    <tr style=\"text-align: right;\">\n",
       "      <th></th>\n",
       "      <th>userId</th>\n",
       "      <th>productId</th>\n",
       "      <th>rating</th>\n",
       "      <th>timestamp</th>\n",
       "    </tr>\n",
       "  </thead>\n",
       "  <tbody>\n",
       "    <tr>\n",
       "      <th>0</th>\n",
       "      <td>AKM1MP6P0OYPR</td>\n",
       "      <td>0132793040</td>\n",
       "      <td>5.0</td>\n",
       "      <td>1365811200</td>\n",
       "    </tr>\n",
       "    <tr>\n",
       "      <th>1</th>\n",
       "      <td>A2CX7LUOHB2NDG</td>\n",
       "      <td>0321732944</td>\n",
       "      <td>5.0</td>\n",
       "      <td>1341100800</td>\n",
       "    </tr>\n",
       "    <tr>\n",
       "      <th>2</th>\n",
       "      <td>A2NWSAGRHCP8N5</td>\n",
       "      <td>0439886341</td>\n",
       "      <td>1.0</td>\n",
       "      <td>1367193600</td>\n",
       "    </tr>\n",
       "    <tr>\n",
       "      <th>3</th>\n",
       "      <td>A2WNBOD3WNDNKT</td>\n",
       "      <td>0439886341</td>\n",
       "      <td>3.0</td>\n",
       "      <td>1374451200</td>\n",
       "    </tr>\n",
       "    <tr>\n",
       "      <th>4</th>\n",
       "      <td>A1GI0U4ZRJA8WN</td>\n",
       "      <td>0439886341</td>\n",
       "      <td>1.0</td>\n",
       "      <td>1334707200</td>\n",
       "    </tr>\n",
       "  </tbody>\n",
       "</table>\n",
       "</div>"
      ],
      "text/plain": [
       "           userId   productId  rating   timestamp\n",
       "0   AKM1MP6P0OYPR  0132793040     5.0  1365811200\n",
       "1  A2CX7LUOHB2NDG  0321732944     5.0  1341100800\n",
       "2  A2NWSAGRHCP8N5  0439886341     1.0  1367193600\n",
       "3  A2WNBOD3WNDNKT  0439886341     3.0  1374451200\n",
       "4  A1GI0U4ZRJA8WN  0439886341     1.0  1334707200"
      ]
     },
     "metadata": {},
     "execution_count": 3
    }
   ],
   "metadata": {}
  },
  {
   "cell_type": "code",
   "execution_count": 4,
   "source": [
    "df.info()"
   ],
   "outputs": [
    {
     "output_type": "stream",
     "name": "stdout",
     "text": [
      "<class 'pandas.core.frame.DataFrame'>\n",
      "RangeIndex: 7824482 entries, 0 to 7824481\n",
      "Data columns (total 4 columns):\n",
      " #   Column     Dtype  \n",
      "---  ------     -----  \n",
      " 0   userId     object \n",
      " 1   productId  object \n",
      " 2   rating     float64\n",
      " 3   timestamp  int64  \n",
      "dtypes: float64(1), int64(1), object(2)\n",
      "memory usage: 238.8+ MB\n"
     ]
    }
   ],
   "metadata": {}
  },
  {
   "cell_type": "code",
   "execution_count": 5,
   "source": [
    "print('The minimum rating is: %d' %(df['rating'].min()))\n",
    "print('The maximum rating is: %d' %(df['rating'].max()))"
   ],
   "outputs": [
    {
     "output_type": "stream",
     "name": "stdout",
     "text": [
      "The minimum rating is: 1\n",
      "The maximum rating is: 5\n"
     ]
    }
   ],
   "metadata": {}
  },
  {
   "cell_type": "code",
   "execution_count": 6,
   "source": [
    "with sns.axes_style('white'):\n",
    "    g = sns.factorplot(\"rating\", data=df, aspect=2.0,kind='count')\n",
    "    g.set_ylabels(\"Total number of ratings\")"
   ],
   "outputs": [
    {
     "output_type": "stream",
     "name": "stderr",
     "text": [
      "/usr/local/lib/python3.9/site-packages/seaborn/categorical.py:3717: UserWarning: The `factorplot` function has been renamed to `catplot`. The original name will be removed in a future release. Please update your code. Note that the default `kind` in `factorplot` (`'point'`) has changed `'strip'` in `catplot`.\n",
      "  warnings.warn(msg)\n",
      "/usr/local/lib/python3.9/site-packages/seaborn/_decorators.py:36: FutureWarning: Pass the following variable as a keyword arg: x. From version 0.12, the only valid positional argument will be `data`, and passing other arguments without an explicit keyword will result in an error or misinterpretation.\n",
      "  warnings.warn(\n"
     ]
    },
    {
     "output_type": "display_data",
     "data": {
      "image/png": "[encoded data removed]",
      "text/plain": [
       "<Figure size 720x360 with 1 Axes>"
      ]
     },
     "metadata": {}
    }
   ],
   "metadata": {}
  },
  {
   "cell_type": "code",
   "execution_count": 7,
   "source": [
    "from datetime import datetime\n",
    "start_date = datetime.fromtimestamp(df[\"timestamp\"].min())\n",
    "end_date = datetime.fromtimestamp(df[\"timestamp\"].max())\n",
    "print(f\"start date: {start_date}.\")\n",
    "print(f\"end date: {end_date}.\")"
   ],
   "outputs": [
    {
     "output_type": "stream",
     "name": "stdout",
     "text": [
      "start date: 1998-12-04 00:00:00.\n",
      "end date: 2014-07-23 01:00:00.\n"
     ]
    }
   ],
   "metadata": {}
  },
  {
   "cell_type": "code",
   "execution_count": 8,
   "source": [
    "df_sub = df >> mask(\n",
    "    X.timestamp <= (X.timestamp.min() + X.timestamp.max())/2\n",
    ")\n",
    "df_after = df >> mask(\n",
    "    X.timestamp > (X.timestamp.min() + X.timestamp.max())/2\n",
    ")\n",
    "df_sub.head()"
   ],
   "outputs": [
    {
     "output_type": "execute_result",
     "data": {
      "text/html": [
       "<div>\n",
       "<style scoped>\n",
       "    .dataframe tbody tr th:only-of-type {\n",
       "        vertical-align: middle;\n",
       "    }\n",
       "\n",
       "    .dataframe tbody tr th {\n",
       "        vertical-align: top;\n",
       "    }\n",
       "\n",
       "    .dataframe thead th {\n",
       "        text-align: right;\n",
       "    }\n",
       "</style>\n",
       "<table border=\"1\" class=\"dataframe\">\n",
       "  <thead>\n",
       "    <tr style=\"text-align: right;\">\n",
       "      <th></th>\n",
       "      <th>userId</th>\n",
       "      <th>productId</th>\n",
       "      <th>rating</th>\n",
       "      <th>timestamp</th>\n",
       "    </tr>\n",
       "  </thead>\n",
       "  <tbody>\n",
       "    <tr>\n",
       "      <th>165</th>\n",
       "      <td>A2R4GEWPLORVSO</td>\n",
       "      <td>0899336795</td>\n",
       "      <td>2.0</td>\n",
       "      <td>1103328000</td>\n",
       "    </tr>\n",
       "    <tr>\n",
       "      <th>166</th>\n",
       "      <td>A1KKUYTDUZDZSA</td>\n",
       "      <td>0899336795</td>\n",
       "      <td>4.0</td>\n",
       "      <td>1104192000</td>\n",
       "    </tr>\n",
       "    <tr>\n",
       "      <th>170</th>\n",
       "      <td>A28K8QC9C4WPGE</td>\n",
       "      <td>0899336795</td>\n",
       "      <td>1.0</td>\n",
       "      <td>1141084800</td>\n",
       "    </tr>\n",
       "    <tr>\n",
       "      <th>171</th>\n",
       "      <td>A266DODBJYK0X</td>\n",
       "      <td>0899336795</td>\n",
       "      <td>1.0</td>\n",
       "      <td>1116806400</td>\n",
       "    </tr>\n",
       "    <tr>\n",
       "      <th>172</th>\n",
       "      <td>A17RBVZX3VTNBW</td>\n",
       "      <td>0899336795</td>\n",
       "      <td>1.0</td>\n",
       "      <td>1111449600</td>\n",
       "    </tr>\n",
       "  </tbody>\n",
       "</table>\n",
       "</div>"
      ],
      "text/plain": [
       "             userId   productId  rating   timestamp\n",
       "165  A2R4GEWPLORVSO  0899336795     2.0  1103328000\n",
       "166  A1KKUYTDUZDZSA  0899336795     4.0  1104192000\n",
       "170  A28K8QC9C4WPGE  0899336795     1.0  1141084800\n",
       "171   A266DODBJYK0X  0899336795     1.0  1116806400\n",
       "172  A17RBVZX3VTNBW  0899336795     1.0  1111449600"
      ]
     },
     "metadata": {},
     "execution_count": 8
    }
   ],
   "metadata": {}
  },
  {
   "cell_type": "code",
   "execution_count": 9,
   "source": [
    "product_lst = (df_sub >> group_by(\n",
    "    X.productId\n",
    ") >> summarize(\n",
    "    Count = n(X.userId)\n",
    ") >> ungroup() >> arrange(\n",
    "    X.Count\n",
    ")>> mask(\n",
    "    X.Count <=10\n",
    "))['productId'].values"
   ],
   "outputs": [],
   "metadata": {}
  },
  {
   "cell_type": "code",
   "execution_count": 10,
   "source": [
    "df_sub=(df_sub >> mask(\n",
    "    ~X.productId.isin(product_lst)\n",
    "))\n",
    "df_sub.head()"
   ],
   "outputs": [
    {
     "output_type": "execute_result",
     "data": {
      "text/html": [
       "<div>\n",
       "<style scoped>\n",
       "    .dataframe tbody tr th:only-of-type {\n",
       "        vertical-align: middle;\n",
       "    }\n",
       "\n",
       "    .dataframe tbody tr th {\n",
       "        vertical-align: top;\n",
       "    }\n",
       "\n",
       "    .dataframe thead th {\n",
       "        text-align: right;\n",
       "    }\n",
       "</style>\n",
       "<table border=\"1\" class=\"dataframe\">\n",
       "  <thead>\n",
       "    <tr style=\"text-align: right;\">\n",
       "      <th></th>\n",
       "      <th>userId</th>\n",
       "      <th>productId</th>\n",
       "      <th>rating</th>\n",
       "      <th>timestamp</th>\n",
       "    </tr>\n",
       "  </thead>\n",
       "  <tbody>\n",
       "    <tr>\n",
       "      <th>3936</th>\n",
       "      <td>A3DX16W5GTC0TL</td>\n",
       "      <td>6301977173</td>\n",
       "      <td>1.0</td>\n",
       "      <td>1122595200</td>\n",
       "    </tr>\n",
       "    <tr>\n",
       "      <th>3937</th>\n",
       "      <td>A2XM8ANEZJR4X7</td>\n",
       "      <td>6301977173</td>\n",
       "      <td>5.0</td>\n",
       "      <td>1094342400</td>\n",
       "    </tr>\n",
       "    <tr>\n",
       "      <th>3949</th>\n",
       "      <td>A30PMBDGB7VPAO</td>\n",
       "      <td>6301977173</td>\n",
       "      <td>4.0</td>\n",
       "      <td>1006905600</td>\n",
       "    </tr>\n",
       "    <tr>\n",
       "      <th>3952</th>\n",
       "      <td>A165PNFJ3X8AQF</td>\n",
       "      <td>6301977173</td>\n",
       "      <td>5.0</td>\n",
       "      <td>963792000</td>\n",
       "    </tr>\n",
       "    <tr>\n",
       "      <th>3955</th>\n",
       "      <td>A3UUK286EGZKEA</td>\n",
       "      <td>6301977173</td>\n",
       "      <td>4.0</td>\n",
       "      <td>1070150400</td>\n",
       "    </tr>\n",
       "  </tbody>\n",
       "</table>\n",
       "</div>"
      ],
      "text/plain": [
       "              userId   productId  rating   timestamp\n",
       "3936  A3DX16W5GTC0TL  6301977173     1.0  1122595200\n",
       "3937  A2XM8ANEZJR4X7  6301977173     5.0  1094342400\n",
       "3949  A30PMBDGB7VPAO  6301977173     4.0  1006905600\n",
       "3952  A165PNFJ3X8AQF  6301977173     5.0   963792000\n",
       "3955  A3UUK286EGZKEA  6301977173     4.0  1070150400"
      ]
     },
     "metadata": {},
     "execution_count": 10
    }
   ],
   "metadata": {}
  },
  {
   "cell_type": "code",
   "execution_count": 11,
   "source": [
    "len(product_lst[product_lst==\"6301977173\"])"
   ],
   "outputs": [
    {
     "output_type": "execute_result",
     "data": {
      "text/plain": [
       "0"
      ]
     },
     "metadata": {},
     "execution_count": 11
    }
   ],
   "metadata": {}
  },
  {
   "cell_type": "code",
   "execution_count": 12,
   "source": [
    "ds = tf.data.Dataset.from_tensor_slices(dict(df_sub))\n",
    "ds"
   ],
   "outputs": [
    {
     "output_type": "stream",
     "name": "stderr",
     "text": [
      "2021-10-25 09:28:14.145954: I tensorflow/core/platform/cpu_feature_guard.cc:142] This TensorFlow binary is optimized with oneAPI Deep Neural Network Library (oneDNN) to use the following CPU instructions in performance-critical operations:  AVX2 FMA\n",
      "To enable them in other operations, rebuild TensorFlow with the appropriate compiler flags.\n"
     ]
    },
    {
     "output_type": "execute_result",
     "data": {
      "text/plain": [
       "<TensorSliceDataset shapes: {userId: (), productId: (), rating: (), timestamp: ()}, types: {userId: tf.string, productId: tf.string, rating: tf.float64, timestamp: tf.int64}>"
      ]
     },
     "metadata": {},
     "execution_count": 12
    }
   ],
   "metadata": {}
  },
  {
   "cell_type": "code",
   "execution_count": 13,
   "source": [
    "ratings = ds.map(lambda x: {\n",
    "    \"productId\": x[\"productId\"],\n",
    "    \"userId\": x[\"userId\"],\n",
    "    \"timestamp\": x[\"timestamp\"],\n",
    "    \"rating\": x[\"rating\"]\n",
    "})\n",
    "products = ds.map(lambda x: x[\"productId\"])\n",
    "products = products.unique()"
   ],
   "outputs": [],
   "metadata": {}
  },
  {
   "cell_type": "code",
   "execution_count": 14,
   "source": [
    "timestamps = np.concatenate(list(ratings.map(lambda x: x[\"timestamp\"]).batch(100)))\n",
    "\n",
    "max_timestamp = timestamps.max()\n",
    "min_timestamp = timestamps.min()\n",
    "\n",
    "timestamp_buckets = np.linspace(\n",
    "    min_timestamp, max_timestamp, num=1000,\n",
    ")\n",
    "\n",
    "unique_product_ids = np.unique(np.concatenate(list(products.batch(1000))))\n",
    "unique_user_ids = np.unique(np.concatenate(list(ratings.batch(1_000).map(lambda x: x[\"userId\"]))))"
   ],
   "outputs": [
    {
     "output_type": "stream",
     "name": "stderr",
     "text": [
      "2021-10-25 09:28:14.293748: I tensorflow/compiler/mlir/mlir_graph_optimization_pass.cc:185] None of the MLIR Optimization Passes are enabled (registered 2)\n"
     ]
    }
   ],
   "metadata": {}
  },
  {
   "cell_type": "code",
   "execution_count": 15,
   "source": [
    "class UserModel(tf.keras.Model):\n",
    "\n",
    "  def __init__(self, use_timestamps):\n",
    "    super().__init__()\n",
    "\n",
    "    self._use_timestamps = use_timestamps\n",
    "\n",
    "    self.user_embedding = tf.keras.Sequential([\n",
    "        tf.keras.layers.StringLookup(\n",
    "            vocabulary=unique_user_ids, mask_token=None),\n",
    "        tf.keras.layers.Embedding(len(unique_user_ids) + 1, 32),\n",
    "    ])\n",
    "\n",
    "    if use_timestamps:\n",
    "      self.timestamp_embedding = tf.keras.Sequential([\n",
    "          tf.keras.layers.Discretization(timestamp_buckets.tolist()),\n",
    "          tf.keras.layers.Embedding(len(timestamp_buckets) + 1, 32),\n",
    "      ])\n",
    "      self.normalized_timestamp = tf.keras.layers.Normalization(\n",
    "          axis=None\n",
    "      )\n",
    "\n",
    "      self.normalized_timestamp.adapt(timestamps)\n",
    "\n",
    "  def call(self, inputs):\n",
    "    if not self._use_timestamps:\n",
    "      return self.user_embedding(inputs[\"userId\"])\n",
    "\n",
    "    return tf.concat([\n",
    "        self.user_embedding(inputs[\"userId\"]),\n",
    "        self.timestamp_embedding(inputs[\"timestamp\"]),\n",
    "        tf.reshape(self.normalized_timestamp(inputs[\"timestamp\"]), (-1, 1)),\n",
    "    ], axis=1)"
   ],
   "outputs": [],
   "metadata": {}
  },
  {
   "cell_type": "code",
   "execution_count": 16,
   "source": [
    "class productModel(tf.keras.Model):\n",
    "\n",
    "  def __init__(self):\n",
    "    super().__init__()\n",
    "    \n",
    "    self.product_embedding = tf.keras.Sequential([\n",
    "      tf.keras.layers.StringLookup(\n",
    "          vocabulary=unique_product_ids, mask_token=None),\n",
    "      tf.keras.layers.Embedding(len(unique_product_ids) + 1, 32)\n",
    "    ])\n",
    "\n",
    "  def call(self, product):\n",
    "    return self.product_embedding(product)"
   ],
   "outputs": [],
   "metadata": {}
  },
  {
   "cell_type": "code",
   "execution_count": 17,
   "source": [
    "class AmazonModel(tfrs.models.Model):\n",
    "\n",
    "  def __init__(self, use_timestamps):\n",
    "    super().__init__()\n",
    "    self.query_model = tf.keras.Sequential([\n",
    "      UserModel(use_timestamps),\n",
    "      tf.keras.layers.Dense(32)\n",
    "    ])\n",
    "\n",
    "    self.candidate_model = tf.keras.Sequential([\n",
    "      productModel(),\n",
    "      tf.keras.layers.Dense(32)\n",
    "    ])\n",
    "\n",
    "    self.task= tfrs.tasks.Retrieval(\n",
    "        metrics=tfrs.metrics.FactorizedTopK(\n",
    "            candidates=products.batch(128).map(self.candidate_model),\n",
    "        ),\n",
    "    )\n",
    "\n",
    "  def compute_loss(self, features, training=False):\n",
    "    query_embeddings = self.query_model({\n",
    "        \"userId\": features[\"userId\"],\n",
    "        \"timestamp\": features[\"timestamp\"],\n",
    "    })\n",
    "    product_embeddings = self.candidate_model(features[\"productId\"])\n",
    "\n",
    "    return self.task(query_embeddings, product_embeddings)"
   ],
   "outputs": [],
   "metadata": {}
  },
  {
   "cell_type": "code",
   "execution_count": 18,
   "source": [
    "tf.random.set_seed(42)\n",
    "shuffled = ratings.shuffle(100_000, seed=42, reshuffle_each_iteration=False)\n",
    "\n",
    "train = shuffled.take(100_000)\n",
    "test = shuffled.skip(80_000).take(20_000)\n",
    "\n",
    "cached_train = train.shuffle(100_000).batch(2048)\n",
    "cached_test = test.batch(4096).cache()"
   ],
   "outputs": [],
   "metadata": {}
  },
  {
   "cell_type": "code",
   "execution_count": 20,
   "source": [
    "model = AmazonModel(use_timestamps=True)\n",
    "model.compile(optimizer=tf.keras.optimizers.Adagrad(0.1))\n",
    "\n",
    "model.fit(cached_train, epochs=3,verbose=0)\n",
    "\n",
    "train_accuracy = model.evaluate(\n",
    "    cached_train, return_dict=True)[\"factorized_top_k/top_100_categorical_accuracy\"]\n",
    "test_accuracy = model.evaluate(\n",
    "    cached_test, return_dict=True)[\"factorized_top_k/top_100_categorical_accuracy\"]\n",
    "\n",
    "print(f\"Top-100 accuracy (train): {train_accuracy:.2f}.\")\n",
    "print(f\"Top-100 accuracy (test): {test_accuracy:.2f}.\")"
   ],
   "outputs": [
    {
     "output_type": "stream",
     "name": "stdout",
     "text": [
      "WARNING:tensorflow:Layers in a Sequential model should only have a single input tensor, but we receive a <class 'dict'> input: {'userId': <tf.Tensor 'IteratorGetNext:3' shape=(None,) dtype=string>, 'timestamp': <tf.Tensor 'IteratorGetNext:2' shape=(None,) dtype=int64>}\n",
      "Consider rewriting this model with the Functional API.\n",
      "WARNING:tensorflow:Layers in a Sequential model should only have a single input tensor, but we receive a <class 'dict'> input: {'userId': <tf.Tensor 'IteratorGetNext:3' shape=(None,) dtype=string>, 'timestamp': <tf.Tensor 'IteratorGetNext:2' shape=(None,) dtype=int64>}\n",
      "Consider rewriting this model with the Functional API.\n",
      "WARNING:tensorflow:Layers in a Sequential model should only have a single input tensor, but we receive a <class 'dict'> input: {'userId': <tf.Tensor 'IteratorGetNext:3' shape=(None,) dtype=string>, 'timestamp': <tf.Tensor 'IteratorGetNext:2' shape=(None,) dtype=int64>}\n",
      "Consider rewriting this model with the Functional API.\n",
      "49/49 [==============================] - 88s 2s/step - factorized_top_k/top_1_categorical_accuracy: 0.4802 - factorized_top_k/top_5_categorical_accuracy: 0.8217 - factorized_top_k/top_10_categorical_accuracy: 0.8562 - factorized_top_k/top_50_categorical_accuracy: 0.9180 - factorized_top_k/top_100_categorical_accuracy: 0.9424 - loss: 3612.2443 - regularization_loss: 0.0000e+00 - total_loss: 3612.2443\n",
      "5/5 [==============================] - 11s 2s/step - factorized_top_k/top_1_categorical_accuracy: 0.4866 - factorized_top_k/top_5_categorical_accuracy: 0.8277 - factorized_top_k/top_10_categorical_accuracy: 0.8629 - factorized_top_k/top_50_categorical_accuracy: 0.9233 - factorized_top_k/top_100_categorical_accuracy: 0.9477 - loss: 8783.9591 - regularization_loss: 0.0000e+00 - total_loss: 8783.9591\n",
      "Top-100 accuracy (train): 0.94.\n",
      "Top-100 accuracy (test): 0.95.\n"
     ]
    }
   ],
   "metadata": {}
  },
  {
   "cell_type": "code",
   "execution_count": 21,
   "source": [
    "index = tfrs.layers.factorized_top_k.BruteForce(model.query_model)\n",
    "\n",
    "index.index_from_dataset(\n",
    "  tf.data.Dataset.zip((products.batch(100), products.batch(100).map(model.candidate_model)))\n",
    ")\n",
    "\n",
    "query = dict(pd.DataFrame({'userId': [\"AGHZXQL9F94T9\"],'timestamp':[1406073600]}).iloc[0].map(lambda x: tf.expand_dims(x,axis=0)))\n",
    "\n",
    "# Get recommendations.\n",
    "_, product = index(query)\n",
    "print(f\"Recommendations for user AGHZXQL9F94T9: {product[0, :5]}\")"
   ],
   "outputs": [
    {
     "output_type": "stream",
     "name": "stdout",
     "text": [
      "WARNING:tensorflow:Layers in a Sequential model should only have a single input tensor, but we receive a <class 'dict'> input: {'userId': <tf.Tensor: shape=(1,), dtype=string, numpy=array([b'AGHZXQL9F94T9'], dtype=object)>, 'timestamp': <tf.Tensor: shape=(1,), dtype=int64, numpy=array([1406073600])>}\n",
      "Consider rewriting this model with the Functional API.\n",
      "Recommendations for user AGHZXQL9F94T9: [b'B0007YFQD0' b'B00092REF8' b'B00080QYRK' b'B0006698SS' b'B0007RB1WW']\n"
     ]
    }
   ],
   "metadata": {}
  },
  {
   "cell_type": "code",
   "execution_count": 22,
   "source": [
    "user_model = tf.keras.Sequential([\n",
    "  tf.keras.layers.StringLookup(\n",
    "      vocabulary=unique_user_ids, mask_token=None),\n",
    "  tf.keras.layers.Embedding(len(unique_user_ids) + 1, 32)\n",
    "])\n",
    "\n",
    "product_model = tf.keras.Sequential([\n",
    "  tf.keras.layers.StringLookup(\n",
    "      vocabulary=unique_product_ids, mask_token=None),\n",
    "  tf.keras.layers.Embedding(len(unique_product_ids) + 1, 32)\n",
    "])\n",
    "\n",
    "metrics = tfrs.metrics.FactorizedTopK(\n",
    "  candidates=products.batch(128).map(product_model)\n",
    ")\n",
    "\n",
    "task = tfrs.tasks.Retrieval(\n",
    "  metrics=metrics\n",
    ")"
   ],
   "outputs": [],
   "metadata": {}
  },
  {
   "cell_type": "code",
   "execution_count": 23,
   "source": [
    "from typing import Dict, Text\n",
    "class ProductRecModel(tfrs.Model):\n",
    "\n",
    "  def __init__(self, user_model, product_model):\n",
    "    super().__init__()\n",
    "    self.product_model: tf.keras.Model = product_model\n",
    "    self.user_model: tf.keras.Model = user_model\n",
    "    self.task: tf.keras.layers.Layer = task\n",
    "\n",
    "  def compute_loss(self, features: Dict[Text, tf.Tensor], training=False) -> tf.Tensor:\n",
    "    user_embeddings = self.user_model(features[\"userId\"])\n",
    "    positive_product_embeddings = self.product_model(features[\"productId\"])\n",
    "\n",
    "    # The task computes the loss and the metrics.\n",
    "    return self.task(user_embeddings, positive_product_embeddings)"
   ],
   "outputs": [],
   "metadata": {}
  },
  {
   "cell_type": "code",
   "execution_count": 24,
   "source": [
    "model2 = ProductRecModel(user_model, product_model)\n",
    "model2.compile(optimizer=tf.keras.optimizers.Adagrad(learning_rate=0.1))"
   ],
   "outputs": [],
   "metadata": {}
  },
  {
   "cell_type": "code",
   "execution_count": 25,
   "source": [
    "model2.fit(cached_train, epochs=3,verbose=0)"
   ],
   "outputs": [
    {
     "output_type": "execute_result",
     "data": {
      "text/plain": [
       "<keras.callbacks.History at 0x1b0d79a30>"
      ]
     },
     "metadata": {},
     "execution_count": 25
    }
   ],
   "metadata": {}
  },
  {
   "cell_type": "code",
   "execution_count": 26,
   "source": [
    "model2.evaluate(cached_test, return_dict=True)"
   ],
   "outputs": [
    {
     "output_type": "stream",
     "name": "stdout",
     "text": [
      "5/5 [==============================] - 11s 2s/step - factorized_top_k/top_1_categorical_accuracy: 0.2549 - factorized_top_k/top_5_categorical_accuracy: 0.5239 - factorized_top_k/top_10_categorical_accuracy: 0.5993 - factorized_top_k/top_50_categorical_accuracy: 0.8098 - factorized_top_k/top_100_categorical_accuracy: 0.9045 - loss: 25643.2572 - regularization_loss: 0.0000e+00 - total_loss: 25643.2572\n"
     ]
    },
    {
     "output_type": "execute_result",
     "data": {
      "text/plain": [
       "{'factorized_top_k/top_1_categorical_accuracy': 0.25485000014305115,\n",
       " 'factorized_top_k/top_5_categorical_accuracy': 0.5239499807357788,\n",
       " 'factorized_top_k/top_10_categorical_accuracy': 0.5992500185966492,\n",
       " 'factorized_top_k/top_50_categorical_accuracy': 0.8098000288009644,\n",
       " 'factorized_top_k/top_100_categorical_accuracy': 0.9045000076293945,\n",
       " 'loss': 23257.23046875,\n",
       " 'regularization_loss': 0,\n",
       " 'total_loss': 23257.23046875}"
      ]
     },
     "metadata": {},
     "execution_count": 26
    }
   ],
   "metadata": {}
  },
  {
   "cell_type": "code",
   "execution_count": 27,
   "source": [
    "index = tfrs.layers.factorized_top_k.BruteForce(model2.user_model)\n",
    "\n",
    "index.index_from_dataset(\n",
    "  tf.data.Dataset.zip((products.batch(100), products.batch(100).map(model2.product_model)))\n",
    ")\n",
    "\n",
    "# Get recommendations.\n",
    "_, product = index(tf.constant([\"AGHZXQL9F94T9\"]))\n",
    "print(f\"Recommendations for user AGHZXQL9F94T9: {product[0, :5]}\")"
   ],
   "outputs": [
    {
     "output_type": "stream",
     "name": "stdout",
     "text": [
      "Recommendations for user AGHZXQL9F94T9: [b'B0001A99MO' b'B0002OD3JY' b'B00005OQMO' b'B00066EK36' b'B0007Y79B2']\n"
     ]
    }
   ],
   "metadata": {}
  },
  {
   "cell_type": "code",
   "execution_count": 28,
   "source": [
    "df >> mask(\n",
    "    X.userId == \"AGHZXQL9F94T9\",\n",
    "    X.timestamp > (X.timestamp.min() + X.timestamp.max())/2\n",
    "    )"
   ],
   "outputs": [
    {
     "output_type": "execute_result",
     "data": {
      "text/html": [
       "<div>\n",
       "<style scoped>\n",
       "    .dataframe tbody tr th:only-of-type {\n",
       "        vertical-align: middle;\n",
       "    }\n",
       "\n",
       "    .dataframe tbody tr th {\n",
       "        vertical-align: top;\n",
       "    }\n",
       "\n",
       "    .dataframe thead th {\n",
       "        text-align: right;\n",
       "    }\n",
       "</style>\n",
       "<table border=\"1\" class=\"dataframe\">\n",
       "  <thead>\n",
       "    <tr style=\"text-align: right;\">\n",
       "      <th></th>\n",
       "      <th>userId</th>\n",
       "      <th>productId</th>\n",
       "      <th>rating</th>\n",
       "      <th>timestamp</th>\n",
       "    </tr>\n",
       "  </thead>\n",
       "  <tbody>\n",
       "    <tr>\n",
       "      <th>748188</th>\n",
       "      <td>AGHZXQL9F94T9</td>\n",
       "      <td>B000BFNT0W</td>\n",
       "      <td>4.0</td>\n",
       "      <td>1222560000</td>\n",
       "    </tr>\n",
       "    <tr>\n",
       "      <th>825867</th>\n",
       "      <td>AGHZXQL9F94T9</td>\n",
       "      <td>B000DZTDAK</td>\n",
       "      <td>1.0</td>\n",
       "      <td>1222560000</td>\n",
       "    </tr>\n",
       "    <tr>\n",
       "      <th>1060686</th>\n",
       "      <td>AGHZXQL9F94T9</td>\n",
       "      <td>B000IVL3DE</td>\n",
       "      <td>5.0</td>\n",
       "      <td>1222560000</td>\n",
       "    </tr>\n",
       "    <tr>\n",
       "      <th>1602410</th>\n",
       "      <td>AGHZXQL9F94T9</td>\n",
       "      <td>B0012GQZZU</td>\n",
       "      <td>4.0</td>\n",
       "      <td>1221609600</td>\n",
       "    </tr>\n",
       "    <tr>\n",
       "      <th>1682633</th>\n",
       "      <td>AGHZXQL9F94T9</td>\n",
       "      <td>B0014IYZDK</td>\n",
       "      <td>2.0</td>\n",
       "      <td>1234310400</td>\n",
       "    </tr>\n",
       "  </tbody>\n",
       "</table>\n",
       "</div>"
      ],
      "text/plain": [
       "                userId   productId  rating   timestamp\n",
       "748188   AGHZXQL9F94T9  B000BFNT0W     4.0  1222560000\n",
       "825867   AGHZXQL9F94T9  B000DZTDAK     1.0  1222560000\n",
       "1060686  AGHZXQL9F94T9  B000IVL3DE     5.0  1222560000\n",
       "1602410  AGHZXQL9F94T9  B0012GQZZU     4.0  1221609600\n",
       "1682633  AGHZXQL9F94T9  B0014IYZDK     2.0  1234310400"
      ]
     },
     "metadata": {},
     "execution_count": 28
    }
   ],
   "metadata": {}
  },
  {
   "cell_type": "code",
   "execution_count": 29,
   "source": [
    "df_sub.head()"
   ],
   "outputs": [
    {
     "output_type": "execute_result",
     "data": {
      "text/html": [
       "<div>\n",
       "<style scoped>\n",
       "    .dataframe tbody tr th:only-of-type {\n",
       "        vertical-align: middle;\n",
       "    }\n",
       "\n",
       "    .dataframe tbody tr th {\n",
       "        vertical-align: top;\n",
       "    }\n",
       "\n",
       "    .dataframe thead th {\n",
       "        text-align: right;\n",
       "    }\n",
       "</style>\n",
       "<table border=\"1\" class=\"dataframe\">\n",
       "  <thead>\n",
       "    <tr style=\"text-align: right;\">\n",
       "      <th></th>\n",
       "      <th>userId</th>\n",
       "      <th>productId</th>\n",
       "      <th>rating</th>\n",
       "      <th>timestamp</th>\n",
       "    </tr>\n",
       "  </thead>\n",
       "  <tbody>\n",
       "    <tr>\n",
       "      <th>3936</th>\n",
       "      <td>A3DX16W5GTC0TL</td>\n",
       "      <td>6301977173</td>\n",
       "      <td>1.0</td>\n",
       "      <td>1122595200</td>\n",
       "    </tr>\n",
       "    <tr>\n",
       "      <th>3937</th>\n",
       "      <td>A2XM8ANEZJR4X7</td>\n",
       "      <td>6301977173</td>\n",
       "      <td>5.0</td>\n",
       "      <td>1094342400</td>\n",
       "    </tr>\n",
       "    <tr>\n",
       "      <th>3949</th>\n",
       "      <td>A30PMBDGB7VPAO</td>\n",
       "      <td>6301977173</td>\n",
       "      <td>4.0</td>\n",
       "      <td>1006905600</td>\n",
       "    </tr>\n",
       "    <tr>\n",
       "      <th>3952</th>\n",
       "      <td>A165PNFJ3X8AQF</td>\n",
       "      <td>6301977173</td>\n",
       "      <td>5.0</td>\n",
       "      <td>963792000</td>\n",
       "    </tr>\n",
       "    <tr>\n",
       "      <th>3955</th>\n",
       "      <td>A3UUK286EGZKEA</td>\n",
       "      <td>6301977173</td>\n",
       "      <td>4.0</td>\n",
       "      <td>1070150400</td>\n",
       "    </tr>\n",
       "  </tbody>\n",
       "</table>\n",
       "</div>"
      ],
      "text/plain": [
       "              userId   productId  rating   timestamp\n",
       "3936  A3DX16W5GTC0TL  6301977173     1.0  1122595200\n",
       "3937  A2XM8ANEZJR4X7  6301977173     5.0  1094342400\n",
       "3949  A30PMBDGB7VPAO  6301977173     4.0  1006905600\n",
       "3952  A165PNFJ3X8AQF  6301977173     5.0   963792000\n",
       "3955  A3UUK286EGZKEA  6301977173     4.0  1070150400"
      ]
     },
     "metadata": {},
     "execution_count": 29
    }
   ],
   "metadata": {}
  },
  {
   "cell_type": "code",
   "execution_count": 30,
   "source": [
    "mu = df_sub['rating'].mean()"
   ],
   "outputs": [],
   "metadata": {}
  },
  {
   "cell_type": "code",
   "execution_count": 31,
   "source": [
    "df_sub['y_hat'] = mu"
   ],
   "outputs": [],
   "metadata": {}
  },
  {
   "cell_type": "code",
   "execution_count": 32,
   "source": [
    "df_sub.head()"
   ],
   "outputs": [
    {
     "output_type": "execute_result",
     "data": {
      "text/html": [
       "<div>\n",
       "<style scoped>\n",
       "    .dataframe tbody tr th:only-of-type {\n",
       "        vertical-align: middle;\n",
       "    }\n",
       "\n",
       "    .dataframe tbody tr th {\n",
       "        vertical-align: top;\n",
       "    }\n",
       "\n",
       "    .dataframe thead th {\n",
       "        text-align: right;\n",
       "    }\n",
       "</style>\n",
       "<table border=\"1\" class=\"dataframe\">\n",
       "  <thead>\n",
       "    <tr style=\"text-align: right;\">\n",
       "      <th></th>\n",
       "      <th>userId</th>\n",
       "      <th>productId</th>\n",
       "      <th>rating</th>\n",
       "      <th>timestamp</th>\n",
       "      <th>y_hat</th>\n",
       "    </tr>\n",
       "  </thead>\n",
       "  <tbody>\n",
       "    <tr>\n",
       "      <th>3936</th>\n",
       "      <td>A3DX16W5GTC0TL</td>\n",
       "      <td>6301977173</td>\n",
       "      <td>1.0</td>\n",
       "      <td>1122595200</td>\n",
       "      <td>3.741593</td>\n",
       "    </tr>\n",
       "    <tr>\n",
       "      <th>3937</th>\n",
       "      <td>A2XM8ANEZJR4X7</td>\n",
       "      <td>6301977173</td>\n",
       "      <td>5.0</td>\n",
       "      <td>1094342400</td>\n",
       "      <td>3.741593</td>\n",
       "    </tr>\n",
       "    <tr>\n",
       "      <th>3949</th>\n",
       "      <td>A30PMBDGB7VPAO</td>\n",
       "      <td>6301977173</td>\n",
       "      <td>4.0</td>\n",
       "      <td>1006905600</td>\n",
       "      <td>3.741593</td>\n",
       "    </tr>\n",
       "    <tr>\n",
       "      <th>3952</th>\n",
       "      <td>A165PNFJ3X8AQF</td>\n",
       "      <td>6301977173</td>\n",
       "      <td>5.0</td>\n",
       "      <td>963792000</td>\n",
       "      <td>3.741593</td>\n",
       "    </tr>\n",
       "    <tr>\n",
       "      <th>3955</th>\n",
       "      <td>A3UUK286EGZKEA</td>\n",
       "      <td>6301977173</td>\n",
       "      <td>4.0</td>\n",
       "      <td>1070150400</td>\n",
       "      <td>3.741593</td>\n",
       "    </tr>\n",
       "  </tbody>\n",
       "</table>\n",
       "</div>"
      ],
      "text/plain": [
       "              userId   productId  rating   timestamp     y_hat\n",
       "3936  A3DX16W5GTC0TL  6301977173     1.0  1122595200  3.741593\n",
       "3937  A2XM8ANEZJR4X7  6301977173     5.0  1094342400  3.741593\n",
       "3949  A30PMBDGB7VPAO  6301977173     4.0  1006905600  3.741593\n",
       "3952  A165PNFJ3X8AQF  6301977173     5.0   963792000  3.741593\n",
       "3955  A3UUK286EGZKEA  6301977173     4.0  1070150400  3.741593"
      ]
     },
     "metadata": {},
     "execution_count": 32
    }
   ],
   "metadata": {}
  },
  {
   "cell_type": "markdown",
   "source": [
    "Naive Ranking"
   ],
   "metadata": {}
  },
  {
   "cell_type": "code",
   "execution_count": 33,
   "source": [
    "from sklearn.metrics import mean_squared_error\n",
    "mean_squared_error(df_sub['rating'].values, df_sub['y_hat'].values, squared=False)"
   ],
   "outputs": [
    {
     "output_type": "execute_result",
     "data": {
      "text/plain": [
       "1.4871675515023781"
      ]
     },
     "metadata": {},
     "execution_count": 33
    }
   ],
   "metadata": {}
  },
  {
   "cell_type": "code",
   "execution_count": 34,
   "source": [
    "product_effect = df_sub >> group_by(\n",
    "    X.productId\n",
    ") >> summarize(\n",
    "    b_prod = (X.rating - mu).mean()\n",
    ")"
   ],
   "outputs": [],
   "metadata": {}
  },
  {
   "cell_type": "code",
   "execution_count": 35,
   "source": [
    "df_sub = df_sub.merge(product_effect,left_on='productId',right_on='productId')"
   ],
   "outputs": [],
   "metadata": {}
  },
  {
   "cell_type": "code",
   "execution_count": 36,
   "source": [
    "df_sub.head()"
   ],
   "outputs": [
    {
     "output_type": "execute_result",
     "data": {
      "text/html": [
       "<div>\n",
       "<style scoped>\n",
       "    .dataframe tbody tr th:only-of-type {\n",
       "        vertical-align: middle;\n",
       "    }\n",
       "\n",
       "    .dataframe tbody tr th {\n",
       "        vertical-align: top;\n",
       "    }\n",
       "\n",
       "    .dataframe thead th {\n",
       "        text-align: right;\n",
       "    }\n",
       "</style>\n",
       "<table border=\"1\" class=\"dataframe\">\n",
       "  <thead>\n",
       "    <tr style=\"text-align: right;\">\n",
       "      <th></th>\n",
       "      <th>userId</th>\n",
       "      <th>productId</th>\n",
       "      <th>rating</th>\n",
       "      <th>timestamp</th>\n",
       "      <th>y_hat</th>\n",
       "      <th>b_prod</th>\n",
       "    </tr>\n",
       "  </thead>\n",
       "  <tbody>\n",
       "    <tr>\n",
       "      <th>0</th>\n",
       "      <td>A3DX16W5GTC0TL</td>\n",
       "      <td>6301977173</td>\n",
       "      <td>1.0</td>\n",
       "      <td>1122595200</td>\n",
       "      <td>3.741593</td>\n",
       "      <td>-0.832502</td>\n",
       "    </tr>\n",
       "    <tr>\n",
       "      <th>1</th>\n",
       "      <td>A2XM8ANEZJR4X7</td>\n",
       "      <td>6301977173</td>\n",
       "      <td>5.0</td>\n",
       "      <td>1094342400</td>\n",
       "      <td>3.741593</td>\n",
       "      <td>-0.832502</td>\n",
       "    </tr>\n",
       "    <tr>\n",
       "      <th>2</th>\n",
       "      <td>A30PMBDGB7VPAO</td>\n",
       "      <td>6301977173</td>\n",
       "      <td>4.0</td>\n",
       "      <td>1006905600</td>\n",
       "      <td>3.741593</td>\n",
       "      <td>-0.832502</td>\n",
       "    </tr>\n",
       "    <tr>\n",
       "      <th>3</th>\n",
       "      <td>A165PNFJ3X8AQF</td>\n",
       "      <td>6301977173</td>\n",
       "      <td>5.0</td>\n",
       "      <td>963792000</td>\n",
       "      <td>3.741593</td>\n",
       "      <td>-0.832502</td>\n",
       "    </tr>\n",
       "    <tr>\n",
       "      <th>4</th>\n",
       "      <td>A3UUK286EGZKEA</td>\n",
       "      <td>6301977173</td>\n",
       "      <td>4.0</td>\n",
       "      <td>1070150400</td>\n",
       "      <td>3.741593</td>\n",
       "      <td>-0.832502</td>\n",
       "    </tr>\n",
       "  </tbody>\n",
       "</table>\n",
       "</div>"
      ],
      "text/plain": [
       "           userId   productId  rating   timestamp     y_hat    b_prod\n",
       "0  A3DX16W5GTC0TL  6301977173     1.0  1122595200  3.741593 -0.832502\n",
       "1  A2XM8ANEZJR4X7  6301977173     5.0  1094342400  3.741593 -0.832502\n",
       "2  A30PMBDGB7VPAO  6301977173     4.0  1006905600  3.741593 -0.832502\n",
       "3  A165PNFJ3X8AQF  6301977173     5.0   963792000  3.741593 -0.832502\n",
       "4  A3UUK286EGZKEA  6301977173     4.0  1070150400  3.741593 -0.832502"
      ]
     },
     "metadata": {},
     "execution_count": 36
    }
   ],
   "metadata": {}
  },
  {
   "cell_type": "code",
   "execution_count": 37,
   "source": [
    "mean_squared_error(df_sub['rating'].values, (df_sub['y_hat'].values + df_sub['b_prod'].values), squared=False)"
   ],
   "outputs": [
    {
     "output_type": "execute_result",
     "data": {
      "text/plain": [
       "1.335921620622961"
      ]
     },
     "metadata": {},
     "execution_count": 37
    }
   ],
   "metadata": {}
  },
  {
   "cell_type": "code",
   "execution_count": 38,
   "source": [
    "user_effect = df_sub >> group_by(\n",
    "    X.userId\n",
    ") >> summarize(\n",
    "    b_user = (X.rating - mu - X.b_prod).mean()\n",
    ")"
   ],
   "outputs": [],
   "metadata": {}
  },
  {
   "cell_type": "code",
   "execution_count": 39,
   "source": [
    "df_sub = df_sub.merge(user_effect,left_on='userId',right_on='userId')"
   ],
   "outputs": [],
   "metadata": {}
  },
  {
   "cell_type": "code",
   "execution_count": 40,
   "source": [
    "df_sub.head()"
   ],
   "outputs": [
    {
     "output_type": "execute_result",
     "data": {
      "text/html": [
       "<div>\n",
       "<style scoped>\n",
       "    .dataframe tbody tr th:only-of-type {\n",
       "        vertical-align: middle;\n",
       "    }\n",
       "\n",
       "    .dataframe tbody tr th {\n",
       "        vertical-align: top;\n",
       "    }\n",
       "\n",
       "    .dataframe thead th {\n",
       "        text-align: right;\n",
       "    }\n",
       "</style>\n",
       "<table border=\"1\" class=\"dataframe\">\n",
       "  <thead>\n",
       "    <tr style=\"text-align: right;\">\n",
       "      <th></th>\n",
       "      <th>userId</th>\n",
       "      <th>productId</th>\n",
       "      <th>rating</th>\n",
       "      <th>timestamp</th>\n",
       "      <th>y_hat</th>\n",
       "      <th>b_prod</th>\n",
       "      <th>b_user</th>\n",
       "    </tr>\n",
       "  </thead>\n",
       "  <tbody>\n",
       "    <tr>\n",
       "      <th>0</th>\n",
       "      <td>A3DX16W5GTC0TL</td>\n",
       "      <td>6301977173</td>\n",
       "      <td>1.0</td>\n",
       "      <td>1122595200</td>\n",
       "      <td>3.741593</td>\n",
       "      <td>-0.832502</td>\n",
       "      <td>-1.909091</td>\n",
       "    </tr>\n",
       "    <tr>\n",
       "      <th>1</th>\n",
       "      <td>A2XM8ANEZJR4X7</td>\n",
       "      <td>6301977173</td>\n",
       "      <td>5.0</td>\n",
       "      <td>1094342400</td>\n",
       "      <td>3.741593</td>\n",
       "      <td>-0.832502</td>\n",
       "      <td>2.090909</td>\n",
       "    </tr>\n",
       "    <tr>\n",
       "      <th>2</th>\n",
       "      <td>A30PMBDGB7VPAO</td>\n",
       "      <td>6301977173</td>\n",
       "      <td>4.0</td>\n",
       "      <td>1006905600</td>\n",
       "      <td>3.741593</td>\n",
       "      <td>-0.832502</td>\n",
       "      <td>1.090909</td>\n",
       "    </tr>\n",
       "    <tr>\n",
       "      <th>3</th>\n",
       "      <td>A165PNFJ3X8AQF</td>\n",
       "      <td>6301977173</td>\n",
       "      <td>5.0</td>\n",
       "      <td>963792000</td>\n",
       "      <td>3.741593</td>\n",
       "      <td>-0.832502</td>\n",
       "      <td>2.090909</td>\n",
       "    </tr>\n",
       "    <tr>\n",
       "      <th>4</th>\n",
       "      <td>A3UUK286EGZKEA</td>\n",
       "      <td>6301977173</td>\n",
       "      <td>4.0</td>\n",
       "      <td>1070150400</td>\n",
       "      <td>3.741593</td>\n",
       "      <td>-0.832502</td>\n",
       "      <td>1.090909</td>\n",
       "    </tr>\n",
       "  </tbody>\n",
       "</table>\n",
       "</div>"
      ],
      "text/plain": [
       "           userId   productId  rating   timestamp     y_hat    b_prod  \\\n",
       "0  A3DX16W5GTC0TL  6301977173     1.0  1122595200  3.741593 -0.832502   \n",
       "1  A2XM8ANEZJR4X7  6301977173     5.0  1094342400  3.741593 -0.832502   \n",
       "2  A30PMBDGB7VPAO  6301977173     4.0  1006905600  3.741593 -0.832502   \n",
       "3  A165PNFJ3X8AQF  6301977173     5.0   963792000  3.741593 -0.832502   \n",
       "4  A3UUK286EGZKEA  6301977173     4.0  1070150400  3.741593 -0.832502   \n",
       "\n",
       "     b_user  \n",
       "0 -1.909091  \n",
       "1  2.090909  \n",
       "2  1.090909  \n",
       "3  2.090909  \n",
       "4  1.090909  "
      ]
     },
     "metadata": {},
     "execution_count": 40
    }
   ],
   "metadata": {}
  },
  {
   "cell_type": "code",
   "execution_count": 41,
   "source": [
    "mean_squared_error(df_sub['rating'].values, (df_sub['y_hat'].values + df_sub['b_prod'].values + df_sub['b_user'].values), squared=False)"
   ],
   "outputs": [
    {
     "output_type": "execute_result",
     "data": {
      "text/plain": [
       "0.4884544087955891"
      ]
     },
     "metadata": {},
     "execution_count": 41
    }
   ],
   "metadata": {}
  },
  {
   "cell_type": "code",
   "execution_count": 42,
   "source": [
    "test_user = \"AGHZXQL9F94T9\"\n",
    "test_product = \"B00002EQD2\""
   ],
   "outputs": [],
   "metadata": {}
  },
  {
   "cell_type": "code",
   "execution_count": 43,
   "source": [
    "b_u = user_effect[user_effect['userId']==test_user]['b_user'].values\n",
    "b_p = product_effect[product_effect['productId']==test_product]['b_prod'].values"
   ],
   "outputs": [],
   "metadata": {}
  },
  {
   "cell_type": "code",
   "execution_count": 44,
   "source": [
    "test_rating = mu + b_u + b_p\n",
    "print(test_rating)"
   ],
   "outputs": [
    {
     "output_type": "stream",
     "name": "stdout",
     "text": [
      "[1.92338528]\n"
     ]
    }
   ],
   "metadata": {}
  },
  {
   "cell_type": "code",
   "execution_count": 45,
   "source": [
    "def predict_rating(user,product):\n",
    "    b_u = user_effect[user_effect['userId']==user]['b_user'].values\n",
    "    b_p = product_effect[product_effect['productId']==product]['b_prod'].values\n",
    "    test_rating = mu + b_u + b_p\n",
    "    return print(test_rating)"
   ],
   "outputs": [],
   "metadata": {}
  },
  {
   "cell_type": "code",
   "execution_count": 46,
   "source": [
    "predict_rating(\"AGHZXQL9F94T9\",\"B00002EQD2\")"
   ],
   "outputs": [
    {
     "output_type": "stream",
     "name": "stdout",
     "text": [
      "[1.92338528]\n"
     ]
    }
   ],
   "metadata": {}
  },
  {
   "cell_type": "code",
   "execution_count": 47,
   "source": [
    "(df_sub >> mask(\n",
    "    X.userId == \"AGHZXQL9F94T9\"    \n",
    ")).head(10)"
   ],
   "outputs": [
    {
     "output_type": "execute_result",
     "data": {
      "text/html": [
       "<div>\n",
       "<style scoped>\n",
       "    .dataframe tbody tr th:only-of-type {\n",
       "        vertical-align: middle;\n",
       "    }\n",
       "\n",
       "    .dataframe tbody tr th {\n",
       "        vertical-align: top;\n",
       "    }\n",
       "\n",
       "    .dataframe thead th {\n",
       "        text-align: right;\n",
       "    }\n",
       "</style>\n",
       "<table border=\"1\" class=\"dataframe\">\n",
       "  <thead>\n",
       "    <tr style=\"text-align: right;\">\n",
       "      <th></th>\n",
       "      <th>userId</th>\n",
       "      <th>productId</th>\n",
       "      <th>rating</th>\n",
       "      <th>timestamp</th>\n",
       "      <th>y_hat</th>\n",
       "      <th>b_prod</th>\n",
       "      <th>b_user</th>\n",
       "    </tr>\n",
       "  </thead>\n",
       "  <tbody>\n",
       "    <tr>\n",
       "      <th>9814</th>\n",
       "      <td>AGHZXQL9F94T9</td>\n",
       "      <td>B00002EQD2</td>\n",
       "      <td>5.0</td>\n",
       "      <td>1017187200</td>\n",
       "      <td>3.741593</td>\n",
       "      <td>-1.574926</td>\n",
       "      <td>-0.243281</td>\n",
       "    </tr>\n",
       "    <tr>\n",
       "      <th>9815</th>\n",
       "      <td>AGHZXQL9F94T9</td>\n",
       "      <td>B00004XRED</td>\n",
       "      <td>5.0</td>\n",
       "      <td>1055635200</td>\n",
       "      <td>3.741593</td>\n",
       "      <td>0.751161</td>\n",
       "      <td>-0.243281</td>\n",
       "    </tr>\n",
       "    <tr>\n",
       "      <th>9816</th>\n",
       "      <td>AGHZXQL9F94T9</td>\n",
       "      <td>B00005ICE3</td>\n",
       "      <td>5.0</td>\n",
       "      <td>1013817600</td>\n",
       "      <td>3.741593</td>\n",
       "      <td>1.031134</td>\n",
       "      <td>-0.243281</td>\n",
       "    </tr>\n",
       "    <tr>\n",
       "      <th>9817</th>\n",
       "      <td>AGHZXQL9F94T9</td>\n",
       "      <td>B00005NVPW</td>\n",
       "      <td>2.0</td>\n",
       "      <td>1021507200</td>\n",
       "      <td>3.741593</td>\n",
       "      <td>0.493701</td>\n",
       "      <td>-0.243281</td>\n",
       "    </tr>\n",
       "    <tr>\n",
       "      <th>9818</th>\n",
       "      <td>AGHZXQL9F94T9</td>\n",
       "      <td>B00005OQMO</td>\n",
       "      <td>5.0</td>\n",
       "      <td>1006214400</td>\n",
       "      <td>3.741593</td>\n",
       "      <td>0.560131</td>\n",
       "      <td>-0.243281</td>\n",
       "    </tr>\n",
       "    <tr>\n",
       "      <th>9819</th>\n",
       "      <td>AGHZXQL9F94T9</td>\n",
       "      <td>B0000630TO</td>\n",
       "      <td>5.0</td>\n",
       "      <td>1052611200</td>\n",
       "      <td>3.741593</td>\n",
       "      <td>0.094771</td>\n",
       "      <td>-0.243281</td>\n",
       "    </tr>\n",
       "    <tr>\n",
       "      <th>9820</th>\n",
       "      <td>AGHZXQL9F94T9</td>\n",
       "      <td>B000063BGY</td>\n",
       "      <td>2.0</td>\n",
       "      <td>1022371200</td>\n",
       "      <td>3.741593</td>\n",
       "      <td>0.038407</td>\n",
       "      <td>-0.243281</td>\n",
       "    </tr>\n",
       "    <tr>\n",
       "      <th>9821</th>\n",
       "      <td>AGHZXQL9F94T9</td>\n",
       "      <td>B0000645C8</td>\n",
       "      <td>5.0</td>\n",
       "      <td>1021507200</td>\n",
       "      <td>3.741593</td>\n",
       "      <td>0.893328</td>\n",
       "      <td>-0.243281</td>\n",
       "    </tr>\n",
       "    <tr>\n",
       "      <th>9822</th>\n",
       "      <td>AGHZXQL9F94T9</td>\n",
       "      <td>B0000645C9</td>\n",
       "      <td>2.0</td>\n",
       "      <td>1020556800</td>\n",
       "      <td>3.741593</td>\n",
       "      <td>0.745364</td>\n",
       "      <td>-0.243281</td>\n",
       "    </tr>\n",
       "    <tr>\n",
       "      <th>9823</th>\n",
       "      <td>AGHZXQL9F94T9</td>\n",
       "      <td>B000065UTC</td>\n",
       "      <td>4.0</td>\n",
       "      <td>1059436800</td>\n",
       "      <td>3.741593</td>\n",
       "      <td>-0.196138</td>\n",
       "      <td>-0.243281</td>\n",
       "    </tr>\n",
       "  </tbody>\n",
       "</table>\n",
       "</div>"
      ],
      "text/plain": [
       "             userId   productId  rating   timestamp     y_hat    b_prod  \\\n",
       "9814  AGHZXQL9F94T9  B00002EQD2     5.0  1017187200  3.741593 -1.574926   \n",
       "9815  AGHZXQL9F94T9  B00004XRED     5.0  1055635200  3.741593  0.751161   \n",
       "9816  AGHZXQL9F94T9  B00005ICE3     5.0  1013817600  3.741593  1.031134   \n",
       "9817  AGHZXQL9F94T9  B00005NVPW     2.0  1021507200  3.741593  0.493701   \n",
       "9818  AGHZXQL9F94T9  B00005OQMO     5.0  1006214400  3.741593  0.560131   \n",
       "9819  AGHZXQL9F94T9  B0000630TO     5.0  1052611200  3.741593  0.094771   \n",
       "9820  AGHZXQL9F94T9  B000063BGY     2.0  1022371200  3.741593  0.038407   \n",
       "9821  AGHZXQL9F94T9  B0000645C8     5.0  1021507200  3.741593  0.893328   \n",
       "9822  AGHZXQL9F94T9  B0000645C9     2.0  1020556800  3.741593  0.745364   \n",
       "9823  AGHZXQL9F94T9  B000065UTC     4.0  1059436800  3.741593 -0.196138   \n",
       "\n",
       "        b_user  \n",
       "9814 -0.243281  \n",
       "9815 -0.243281  \n",
       "9816 -0.243281  \n",
       "9817 -0.243281  \n",
       "9818 -0.243281  \n",
       "9819 -0.243281  \n",
       "9820 -0.243281  \n",
       "9821 -0.243281  \n",
       "9822 -0.243281  \n",
       "9823 -0.243281  "
      ]
     },
     "metadata": {},
     "execution_count": 47
    }
   ],
   "metadata": {}
  },
  {
   "cell_type": "code",
   "execution_count": 48,
   "source": [
    "(df_sub >> mask(\n",
    "    X.productId == \"B00002EQD2\"    \n",
    ")).head(10)"
   ],
   "outputs": [
    {
     "output_type": "execute_result",
     "data": {
      "text/html": [
       "<div>\n",
       "<style scoped>\n",
       "    .dataframe tbody tr th:only-of-type {\n",
       "        vertical-align: middle;\n",
       "    }\n",
       "\n",
       "    .dataframe tbody tr th {\n",
       "        vertical-align: top;\n",
       "    }\n",
       "\n",
       "    .dataframe thead th {\n",
       "        text-align: right;\n",
       "    }\n",
       "</style>\n",
       "<table border=\"1\" class=\"dataframe\">\n",
       "  <thead>\n",
       "    <tr style=\"text-align: right;\">\n",
       "      <th></th>\n",
       "      <th>userId</th>\n",
       "      <th>productId</th>\n",
       "      <th>rating</th>\n",
       "      <th>timestamp</th>\n",
       "      <th>y_hat</th>\n",
       "      <th>b_prod</th>\n",
       "      <th>b_user</th>\n",
       "    </tr>\n",
       "  </thead>\n",
       "  <tbody>\n",
       "    <tr>\n",
       "      <th>9801</th>\n",
       "      <td>A33TOTDUVWTCT7</td>\n",
       "      <td>B00002EQD2</td>\n",
       "      <td>5.0</td>\n",
       "      <td>963187200</td>\n",
       "      <td>3.741593</td>\n",
       "      <td>-1.574926</td>\n",
       "      <td>2.833333</td>\n",
       "    </tr>\n",
       "    <tr>\n",
       "      <th>9802</th>\n",
       "      <td>A24P4XOBMMD9IO</td>\n",
       "      <td>B00002EQD2</td>\n",
       "      <td>1.0</td>\n",
       "      <td>1005696000</td>\n",
       "      <td>3.741593</td>\n",
       "      <td>-1.574926</td>\n",
       "      <td>-0.325665</td>\n",
       "    </tr>\n",
       "    <tr>\n",
       "      <th>9804</th>\n",
       "      <td>A1LH6RF4UN9VI6</td>\n",
       "      <td>B00002EQD2</td>\n",
       "      <td>5.0</td>\n",
       "      <td>963446400</td>\n",
       "      <td>3.741593</td>\n",
       "      <td>-1.574926</td>\n",
       "      <td>0.376667</td>\n",
       "    </tr>\n",
       "    <tr>\n",
       "      <th>9806</th>\n",
       "      <td>A2NJG3ODZIN3PF</td>\n",
       "      <td>B00002EQD2</td>\n",
       "      <td>1.0</td>\n",
       "      <td>998956800</td>\n",
       "      <td>3.741593</td>\n",
       "      <td>-1.574926</td>\n",
       "      <td>-1.423743</td>\n",
       "    </tr>\n",
       "    <tr>\n",
       "      <th>9808</th>\n",
       "      <td>A33Z5QC2H4LO42</td>\n",
       "      <td>B00002EQD2</td>\n",
       "      <td>1.0</td>\n",
       "      <td>971049600</td>\n",
       "      <td>3.741593</td>\n",
       "      <td>-1.574926</td>\n",
       "      <td>-1.166667</td>\n",
       "    </tr>\n",
       "    <tr>\n",
       "      <th>9809</th>\n",
       "      <td>AW83S74Y4GEAU</td>\n",
       "      <td>B00002EQD2</td>\n",
       "      <td>1.0</td>\n",
       "      <td>991699200</td>\n",
       "      <td>3.741593</td>\n",
       "      <td>-1.574926</td>\n",
       "      <td>-1.166667</td>\n",
       "    </tr>\n",
       "    <tr>\n",
       "      <th>9810</th>\n",
       "      <td>AKOR6A8V9CT05</td>\n",
       "      <td>B00002EQD2</td>\n",
       "      <td>1.0</td>\n",
       "      <td>962236800</td>\n",
       "      <td>3.741593</td>\n",
       "      <td>-1.574926</td>\n",
       "      <td>-1.166667</td>\n",
       "    </tr>\n",
       "    <tr>\n",
       "      <th>9811</th>\n",
       "      <td>A3BUIU8HYGG79Y</td>\n",
       "      <td>B00002EQD2</td>\n",
       "      <td>1.0</td>\n",
       "      <td>999475200</td>\n",
       "      <td>3.741593</td>\n",
       "      <td>-1.574926</td>\n",
       "      <td>-1.166667</td>\n",
       "    </tr>\n",
       "    <tr>\n",
       "      <th>9812</th>\n",
       "      <td>A1W7B29AV4RJWN</td>\n",
       "      <td>B00002EQD2</td>\n",
       "      <td>1.0</td>\n",
       "      <td>991008000</td>\n",
       "      <td>3.741593</td>\n",
       "      <td>-1.574926</td>\n",
       "      <td>-1.166667</td>\n",
       "    </tr>\n",
       "    <tr>\n",
       "      <th>9813</th>\n",
       "      <td>A2W2KKKUJON11Y</td>\n",
       "      <td>B00002EQD2</td>\n",
       "      <td>2.0</td>\n",
       "      <td>964915200</td>\n",
       "      <td>3.741593</td>\n",
       "      <td>-1.574926</td>\n",
       "      <td>-0.166667</td>\n",
       "    </tr>\n",
       "  </tbody>\n",
       "</table>\n",
       "</div>"
      ],
      "text/plain": [
       "              userId   productId  rating   timestamp     y_hat    b_prod  \\\n",
       "9801  A33TOTDUVWTCT7  B00002EQD2     5.0   963187200  3.741593 -1.574926   \n",
       "9802  A24P4XOBMMD9IO  B00002EQD2     1.0  1005696000  3.741593 -1.574926   \n",
       "9804  A1LH6RF4UN9VI6  B00002EQD2     5.0   963446400  3.741593 -1.574926   \n",
       "9806  A2NJG3ODZIN3PF  B00002EQD2     1.0   998956800  3.741593 -1.574926   \n",
       "9808  A33Z5QC2H4LO42  B00002EQD2     1.0   971049600  3.741593 -1.574926   \n",
       "9809   AW83S74Y4GEAU  B00002EQD2     1.0   991699200  3.741593 -1.574926   \n",
       "9810   AKOR6A8V9CT05  B00002EQD2     1.0   962236800  3.741593 -1.574926   \n",
       "9811  A3BUIU8HYGG79Y  B00002EQD2     1.0   999475200  3.741593 -1.574926   \n",
       "9812  A1W7B29AV4RJWN  B00002EQD2     1.0   991008000  3.741593 -1.574926   \n",
       "9813  A2W2KKKUJON11Y  B00002EQD2     2.0   964915200  3.741593 -1.574926   \n",
       "\n",
       "        b_user  \n",
       "9801  2.833333  \n",
       "9802 -0.325665  \n",
       "9804  0.376667  \n",
       "9806 -1.423743  \n",
       "9808 -1.166667  \n",
       "9809 -1.166667  \n",
       "9810 -1.166667  \n",
       "9811 -1.166667  \n",
       "9812 -1.166667  \n",
       "9813 -0.166667  "
      ]
     },
     "metadata": {},
     "execution_count": 48
    }
   ],
   "metadata": {}
  },
  {
   "cell_type": "code",
   "execution_count": 49,
   "source": [
    "l_reg = np.arange(-0.2, 0.3, 0.1,)\n",
    "l_reg   "
   ],
   "outputs": [
    {
     "output_type": "execute_result",
     "data": {
      "text/plain": [
       "array([-0.2, -0.1,  0. ,  0.1,  0.2])"
      ]
     },
     "metadata": {},
     "execution_count": 49
    }
   ],
   "metadata": {}
  },
  {
   "cell_type": "code",
   "execution_count": 50,
   "source": [
    "rmse = []\n",
    "for l in l_reg:\n",
    "    product_effect_reg = df_sub  >> mutate(Reg = l) >> group_by(\n",
    "    X.productId) >> summarize(\n",
    "    b_prod_reg = (X.rating - X.y_hat).sum()/(X.Reg.mean()+n(X.productId))\n",
    "    )\n",
    "\n",
    "    df_sub_reg = df_sub.merge(product_effect_reg,left_on='productId',right_on='productId')\n",
    "\n",
    "    user_effect_reg = df_sub_reg >> mutate(Reg = l) >> group_by(\n",
    "    X.userId) >> summarize(\n",
    "    b_user_reg = (X.rating - X.y_hat - X.b_prod_reg).sum()/(X.Reg.mean()+n(X.userId))\n",
    "    )\n",
    "\n",
    "    df_sub_reg = df_sub_reg.merge(user_effect_reg,left_on='userId',right_on='userId')\n",
    "\n",
    "    rmse.append(mean_squared_error(df_sub_reg['rating'], (df_sub_reg['y_hat'] + df_sub_reg['b_prod_reg'] + df_sub_reg['b_user_reg']), squared=False))"
   ],
   "outputs": [],
   "metadata": {}
  },
  {
   "cell_type": "code",
   "execution_count": 51,
   "source": [
    "plt.plot(l_reg,np.asarray(rmse))\n",
    "plt.show()"
   ],
   "outputs": [
    {
     "output_type": "display_data",
     "data": {
      "image/png": "[encoded data removed]",
      "text/plain": [
       "<Figure size 432x288 with 1 Axes>"
      ]
     },
     "metadata": {
      "needs_background": "light"
     }
    }
   ],
   "metadata": {}
  }
 ],
 "metadata": {
  "orig_nbformat": 4,
  "language_info": {
   "name": "python",
   "version": "3.9.7",
   "mimetype": "text/x-python",
   "codemirror_mode": {
    "name": "ipython",
    "version": 3
   },
   "pygments_lexer": "ipython3",
   "nbconvert_exporter": "python",
   "file_extension": ".py"
  },
  "kernelspec": {
   "name": "python3",
   "display_name": "Python 3.9.7 64-bit"
  },
  "interpreter": {
   "hash": "aee8b7b246df8f9039afb4144a1f6fd8d2ca17a180786b69acc140d282b71a49"
  }
 },
 "nbformat": 4,
 "nbformat_minor": 2
}