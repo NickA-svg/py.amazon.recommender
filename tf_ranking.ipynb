{
 "cells": [
  {
   "cell_type": "code",
   "execution_count": 1,
   "metadata": {},
   "outputs": [],
   "source": [
    "import tensorflow as tf\n",
    "import pandas as pd\n",
    "import numpy as np\n",
    "import matplotlib.pyplot as plt\n",
    "import seaborn as sns\n",
    "from dfply import *\n",
    "import tensorflow_recommenders as tfrs\n",
    "\n",
    "%matplotlib inline"
   ]
  },
  {
   "cell_type": "code",
   "execution_count": 2,
   "metadata": {},
   "outputs": [],
   "source": [
    "df = pd.read_csv(\"./data/ratings_Electronics.csv\", names=['userId', 'productId','rating','timestamp'])"
   ]
  },
  {
   "cell_type": "code",
   "execution_count": 3,
   "metadata": {},
   "outputs": [
    {
     "data": {
      "text/html": [
       "<div>\n",
       "<style scoped>\n",
       "    .dataframe tbody tr th:only-of-type {\n",
       "        vertical-align: middle;\n",
       "    }\n",
       "\n",
       "    .dataframe tbody tr th {\n",
       "        vertical-align: top;\n",
       "    }\n",
       "\n",
       "    .dataframe thead th {\n",
       "        text-align: right;\n",
       "    }\n",
       "</style>\n",
       "<table border=\"1\" class=\"dataframe\">\n",
       "  <thead>\n",
       "    <tr style=\"text-align: right;\">\n",
       "      <th></th>\n",
       "      <th>userId</th>\n",
       "      <th>productId</th>\n",
       "      <th>rating</th>\n",
       "      <th>timestamp</th>\n",
       "    </tr>\n",
       "  </thead>\n",
       "  <tbody>\n",
       "    <tr>\n",
       "      <th>0</th>\n",
       "      <td>AKM1MP6P0OYPR</td>\n",
       "      <td>0132793040</td>\n",
       "      <td>5.0</td>\n",
       "      <td>1365811200</td>\n",
       "    </tr>\n",
       "    <tr>\n",
       "      <th>1</th>\n",
       "      <td>A2CX7LUOHB2NDG</td>\n",
       "      <td>0321732944</td>\n",
       "      <td>5.0</td>\n",
       "      <td>1341100800</td>\n",
       "    </tr>\n",
       "    <tr>\n",
       "      <th>2</th>\n",
       "      <td>A2NWSAGRHCP8N5</td>\n",
       "      <td>0439886341</td>\n",
       "      <td>1.0</td>\n",
       "      <td>1367193600</td>\n",
       "    </tr>\n",
       "    <tr>\n",
       "      <th>3</th>\n",
       "      <td>A2WNBOD3WNDNKT</td>\n",
       "      <td>0439886341</td>\n",
       "      <td>3.0</td>\n",
       "      <td>1374451200</td>\n",
       "    </tr>\n",
       "    <tr>\n",
       "      <th>4</th>\n",
       "      <td>A1GI0U4ZRJA8WN</td>\n",
       "      <td>0439886341</td>\n",
       "      <td>1.0</td>\n",
       "      <td>1334707200</td>\n",
       "    </tr>\n",
       "  </tbody>\n",
       "</table>\n",
       "</div>"
      ],
      "text/plain": [
       "           userId   productId  rating   timestamp\n",
       "0   AKM1MP6P0OYPR  0132793040     5.0  1365811200\n",
       "1  A2CX7LUOHB2NDG  0321732944     5.0  1341100800\n",
       "2  A2NWSAGRHCP8N5  0439886341     1.0  1367193600\n",
       "3  A2WNBOD3WNDNKT  0439886341     3.0  1374451200\n",
       "4  A1GI0U4ZRJA8WN  0439886341     1.0  1334707200"
      ]
     },
     "execution_count": 3,
     "metadata": {},
     "output_type": "execute_result"
    }
   ],
   "source": [
    "df.head()"
   ]
  },
  {
   "cell_type": "code",
   "execution_count": 4,
   "metadata": {},
   "outputs": [
    {
     "name": "stdout",
     "output_type": "stream",
     "text": [
      "start date: 1998-12-04 00:00:00.\n",
      "end date: 2014-07-23 01:00:00.\n"
     ]
    }
   ],
   "source": [
    "from datetime import datetime\n",
    "start_date = datetime.fromtimestamp(df[\"timestamp\"].min())\n",
    "end_date = datetime.fromtimestamp(df[\"timestamp\"].max())\n",
    "print(f\"start date: {start_date}.\")\n",
    "print(f\"end date: {end_date}.\")"
   ]
  },
  {
   "cell_type": "code",
   "execution_count": 6,
   "metadata": {},
   "outputs": [],
   "source": [
    "product_lst = (df >> group_by(\n",
    "    X.productId\n",
    ") >> summarize(\n",
    "    Count = n(X.userId)\n",
    ") >> ungroup() >> arrange(\n",
    "    X.Count\n",
    ")>> mask(\n",
    "    X.Count <=50\n",
    "))['productId'].values"
   ]
  },
  {
   "cell_type": "code",
   "execution_count": 7,
   "metadata": {},
   "outputs": [],
   "source": [
    "df_sub=(df >> mask(\n",
    "    ~X.productId.isin(product_lst)\n",
    "))"
   ]
  },
  {
   "cell_type": "code",
   "execution_count": 8,
   "metadata": {},
   "outputs": [
    {
     "name": "stderr",
     "output_type": "stream",
     "text": [
      "2021-11-01 14:29:14.617372: I tensorflow/core/platform/cpu_feature_guard.cc:142] This TensorFlow binary is optimized with oneAPI Deep Neural Network Library (oneDNN) to use the following CPU instructions in performance-critical operations:  AVX2 FMA\n",
      "To enable them in other operations, rebuild TensorFlow with the appropriate compiler flags.\n"
     ]
    }
   ],
   "source": [
    "ds = tf.data.Dataset.from_tensor_slices(dict(df_sub))"
   ]
  },
  {
   "cell_type": "code",
   "execution_count": 9,
   "metadata": {},
   "outputs": [],
   "source": [
    "rating = ds.map(lambda x: {\n",
    "    \"productId\": x[\"productId\"],\n",
    "    \"userId\": x[\"userId\"],\n",
    "    \"timestamp\": x[\"timestamp\"],\n",
    "    \"rating\": x[\"rating\"]\n",
    "})"
   ]
  },
  {
   "cell_type": "code",
   "execution_count": 10,
   "metadata": {},
   "outputs": [],
   "source": [
    "tf.random.set_seed(42)\n",
    "shuffled = rating.shuffle(100_000, seed=42, reshuffle_each_iteration=False)\n",
    "\n",
    "train = shuffled.take(80_000)\n",
    "test = shuffled.skip(80_000).take(20_000)"
   ]
  },
  {
   "cell_type": "code",
   "execution_count": 11,
   "metadata": {},
   "outputs": [
    {
     "name": "stderr",
     "output_type": "stream",
     "text": [
      "2021-11-01 14:29:25.075093: I tensorflow/compiler/mlir/mlir_graph_optimization_pass.cc:185] None of the MLIR Optimization Passes are enabled (registered 2)\n"
     ]
    }
   ],
   "source": [
    "products = rating.batch(100_000).map(lambda x: x[\"productId\"])\n",
    "user_ids = rating.batch(100_000).map(lambda x: x[\"userId\"])\n",
    "\n",
    "unique_products = np.unique(np.concatenate(list(products)))\n",
    "unique_user_ids = np.unique(np.concatenate(list(user_ids)))"
   ]
  },
  {
   "cell_type": "code",
   "execution_count": 12,
   "metadata": {},
   "outputs": [],
   "source": [
    "timestamps = np.concatenate(list(rating.map(lambda x: x[\"timestamp\"]).batch(100)))\n",
    "\n",
    "max_timestamp = timestamps.max()\n",
    "min_timestamp = timestamps.min()\n",
    "\n",
    "timestamp_buckets = np.linspace(\n",
    "    min_timestamp, max_timestamp, num=1000,\n",
    ")"
   ]
  },
  {
   "cell_type": "code",
   "execution_count": 13,
   "metadata": {},
   "outputs": [],
   "source": [
    "class RankingModel(tf.keras.Model):\n",
    "\n",
    "  def __init__(self):\n",
    "    super().__init__()\n",
    "    embedding_dimension = 32\n",
    "\n",
    "    # Compute embeddings for users.\n",
    "    self.user_embeddings = tf.keras.Sequential([\n",
    "      tf.keras.layers.StringLookup(\n",
    "        vocabulary=unique_user_ids, mask_token=None),\n",
    "      tf.keras.layers.Embedding(len(unique_user_ids) + 1, embedding_dimension)\n",
    "    ])\n",
    "\n",
    "    # Compute embeddings for products.\n",
    "    self.product_embeddings = tf.keras.Sequential([\n",
    "      tf.keras.layers.StringLookup(\n",
    "        vocabulary=unique_products, mask_token=None),\n",
    "      tf.keras.layers.Embedding(len(unique_products) + 1, embedding_dimension)\n",
    "    ])\n",
    "\n",
    "    #Compute embeddings for time of rating.\n",
    "    self.timestamp_embedding = tf.keras.Sequential([\n",
    "          tf.keras.layers.Discretization(timestamp_buckets.tolist()),\n",
    "          tf.keras.layers.Embedding(len(timestamp_buckets) + 1, 32),\n",
    "      ])\n",
    "\n",
    "    # Compute predictions.\n",
    "    self.ratings = tf.keras.Sequential([\n",
    "      # Learn multiple dense layers.\n",
    "      tf.keras.layers.Dense(256, activation=\"relu\"),\n",
    "      tf.keras.layers.Dense(64, activation=\"relu\"),\n",
    "      # Make rating predictions in the final layer.\n",
    "      tf.keras.layers.Dense(1)\n",
    "  ])\n",
    "\n",
    "  def call(self, inputs):\n",
    "\n",
    "    user_id, timestamp, products = inputs\n",
    "\n",
    "    user_embedding = self.user_embeddings(user_id)\n",
    "    timestamp_embedding = self.timestamp_embedding(timestamp)\n",
    "    product_embedding = self.product_embeddings(products)\n",
    "\n",
    "\n",
    "    return self.ratings(tf.concat([user_embedding, timestamp_embedding, product_embedding], axis=1))"
   ]
  },
  {
   "cell_type": "code",
   "execution_count": 14,
   "metadata": {},
   "outputs": [
    {
     "name": "stdout",
     "output_type": "stream",
     "text": [
      "WARNING:tensorflow:Layers in a Sequential model should only have a single input tensor, but we receive a <class 'list'> input: ['AT6CZDCP4TRGA']\n",
      "Consider rewriting this model with the Functional API.\n",
      "WARNING:tensorflow:Layers in a Sequential model should only have a single input tensor, but we receive a <class 'list'> input: [1406073600]\n",
      "Consider rewriting this model with the Functional API.\n",
      "WARNING:tensorflow:Layers in a Sequential model should only have a single input tensor, but we receive a <class 'list'> input: ['0439886341']\n",
      "Consider rewriting this model with the Functional API.\n"
     ]
    },
    {
     "data": {
      "text/plain": [
       "<tf.Tensor: shape=(1, 1), dtype=float32, numpy=array([[0.03520618]], dtype=float32)>"
      ]
     },
     "execution_count": 14,
     "metadata": {},
     "output_type": "execute_result"
    }
   ],
   "source": [
    "RankingModel()(([\"AT6CZDCP4TRGA\"],[df_sub.timestamp.max()],[\"0439886341\"]))"
   ]
  },
  {
   "cell_type": "code",
   "execution_count": 15,
   "metadata": {},
   "outputs": [],
   "source": [
    "from typing import Dict, Text\n",
    "class ProductRankModel(tfrs.models.Model):\n",
    "\n",
    "  def __init__(self):\n",
    "    super().__init__()\n",
    "    self.ranking_model: tf.keras.Model = RankingModel()\n",
    "    self.task: tf.keras.layers.Layer = tfrs.tasks.Ranking(\n",
    "      loss = tf.keras.losses.MeanSquaredError(),\n",
    "      metrics=[tf.keras.metrics.RootMeanSquaredError()]\n",
    "    )\n",
    "\n",
    "  def call(self, features: Dict[str, tf.Tensor]) -> tf.Tensor:\n",
    "    return self.ranking_model(\n",
    "        (features[\"userId\"], features[\"timestamp\"], features[\"productId\"]))\n",
    "\n",
    "  def compute_loss(self, features: Dict[Text, tf.Tensor], training=False) -> tf.Tensor:\n",
    "    labels = features.pop(\"rating\")\n",
    "\n",
    "    rating_predictions = self(features)\n",
    "\n",
    "    # The task computes the loss and the metrics.\n",
    "    return self.task(labels=labels, predictions=rating_predictions)"
   ]
  },
  {
   "cell_type": "code",
   "execution_count": 16,
   "metadata": {},
   "outputs": [],
   "source": [
    "rank_model = ProductRankModel()\n",
    "rank_model.compile(optimizer=tf.keras.optimizers.Adagrad(learning_rate=0.1))"
   ]
  },
  {
   "cell_type": "code",
   "execution_count": 17,
   "metadata": {},
   "outputs": [],
   "source": [
    "cached_train = train.shuffle(100_000).batch(8192).cache()\n",
    "cached_test = test.batch(4096).cache()"
   ]
  },
  {
   "cell_type": "code",
   "execution_count": 18,
   "metadata": {},
   "outputs": [
    {
     "name": "stdout",
     "output_type": "stream",
     "text": [
      "Epoch 1/3\n",
      "10/10 [==============================] - 3s 62ms/step - root_mean_squared_error: 2.6032 - loss: 6.2109 - regularization_loss: 0.0000e+00 - total_loss: 6.2109\n",
      "Epoch 2/3\n",
      "10/10 [==============================] - 0s 22ms/step - root_mean_squared_error: 1.3222 - loss: 1.7446 - regularization_loss: 0.0000e+00 - total_loss: 1.7446\n",
      "Epoch 3/3\n",
      "10/10 [==============================] - 0s 22ms/step - root_mean_squared_error: 1.3166 - loss: 1.7297 - regularization_loss: 0.0000e+00 - total_loss: 1.7297\n"
     ]
    },
    {
     "data": {
      "text/plain": [
       "<keras.callbacks.History at 0x1b7cfbc40>"
      ]
     },
     "execution_count": 18,
     "metadata": {},
     "output_type": "execute_result"
    }
   ],
   "source": [
    "rank_model.fit(cached_train, epochs=3)"
   ]
  },
  {
   "cell_type": "code",
   "execution_count": 19,
   "metadata": {},
   "outputs": [
    {
     "name": "stdout",
     "output_type": "stream",
     "text": [
      "5/5 [==============================] - 1s 72ms/step - root_mean_squared_error: 1.3233 - loss: 1.7583 - regularization_loss: 0.0000e+00 - total_loss: 1.7583\n"
     ]
    },
    {
     "data": {
      "text/plain": [
       "{'root_mean_squared_error': 1.3232513666152954,\n",
       " 'loss': 1.7901568412780762,\n",
       " 'regularization_loss': 0,\n",
       " 'total_loss': 1.7901568412780762}"
      ]
     },
     "execution_count": 19,
     "metadata": {},
     "output_type": "execute_result"
    }
   ],
   "source": [
    "rank_model.evaluate(cached_test, return_dict=True)"
   ]
  },
  {
   "cell_type": "code",
   "execution_count": 20,
   "metadata": {},
   "outputs": [
    {
     "name": "stdout",
     "output_type": "stream",
     "text": [
      "Ratings:\n",
      "B000063BGY: [[4.103604]]\n",
      "B00002EQD2: [[4.101753]]\n"
     ]
    }
   ],
   "source": [
    "test_ratings = {}\n",
    "test_products = [\"B00002EQD2\",\"B000063BGY\"]\n",
    "for product in test_products:\n",
    "  test_ratings[product] = rank_model({\n",
    "      \"userId\": np.array([\"AGHZXQL9F94T9\"]),\n",
    "      \"timestamp\": np.array([df_sub.timestamp.max()]),\n",
    "      \"productId\": np.array([product])\n",
    "  })\n",
    "\n",
    "print(\"Ratings:\")\n",
    "for title, score in sorted(test_ratings.items(), key=lambda x: x[1], reverse=True):\n",
    "  print(f\"{title}: {score}\")"
   ]
  },
  {
   "cell_type": "code",
   "execution_count": 21,
   "metadata": {},
   "outputs": [
    {
     "data": {
      "text/html": [
       "<div>\n",
       "<style scoped>\n",
       "    .dataframe tbody tr th:only-of-type {\n",
       "        vertical-align: middle;\n",
       "    }\n",
       "\n",
       "    .dataframe tbody tr th {\n",
       "        vertical-align: top;\n",
       "    }\n",
       "\n",
       "    .dataframe thead th {\n",
       "        text-align: right;\n",
       "    }\n",
       "</style>\n",
       "<table border=\"1\" class=\"dataframe\">\n",
       "  <thead>\n",
       "    <tr style=\"text-align: right;\">\n",
       "      <th></th>\n",
       "      <th>userId</th>\n",
       "      <th>Count</th>\n",
       "    </tr>\n",
       "  </thead>\n",
       "  <tbody>\n",
       "    <tr>\n",
       "      <th>94498</th>\n",
       "      <td>A5JLAU2ARJ0BO</td>\n",
       "      <td>228</td>\n",
       "    </tr>\n",
       "    <tr>\n",
       "      <th>35085</th>\n",
       "      <td>A231WM2Z2JL0U3</td>\n",
       "      <td>173</td>\n",
       "    </tr>\n",
       "    <tr>\n",
       "      <th>104141</th>\n",
       "      <td>AGHZXQL9F94T9</td>\n",
       "      <td>61</td>\n",
       "    </tr>\n",
       "    <tr>\n",
       "      <th>99819</th>\n",
       "      <td>ABH9D1TEOJ56E</td>\n",
       "      <td>49</td>\n",
       "    </tr>\n",
       "    <tr>\n",
       "      <th>115345</th>\n",
       "      <td>AT2J7H5TRZM8Z</td>\n",
       "      <td>46</td>\n",
       "    </tr>\n",
       "    <tr>\n",
       "      <th>2098</th>\n",
       "      <td>A12DLJESJKM1OQ</td>\n",
       "      <td>46</td>\n",
       "    </tr>\n",
       "    <tr>\n",
       "      <th>115439</th>\n",
       "      <td>AT6CZDCP4TRGA</td>\n",
       "      <td>41</td>\n",
       "    </tr>\n",
       "    <tr>\n",
       "      <th>3765</th>\n",
       "      <td>A149RNR5RH19YY</td>\n",
       "      <td>41</td>\n",
       "    </tr>\n",
       "    <tr>\n",
       "      <th>41666</th>\n",
       "      <td>A2AEZQ3DGBBLPR</td>\n",
       "      <td>40</td>\n",
       "    </tr>\n",
       "    <tr>\n",
       "      <th>20292</th>\n",
       "      <td>A1MJMYLRTZ76ZX</td>\n",
       "      <td>38</td>\n",
       "    </tr>\n",
       "  </tbody>\n",
       "</table>\n",
       "</div>"
      ],
      "text/plain": [
       "                userId  Count\n",
       "94498    A5JLAU2ARJ0BO    228\n",
       "35085   A231WM2Z2JL0U3    173\n",
       "104141   AGHZXQL9F94T9     61\n",
       "99819    ABH9D1TEOJ56E     49\n",
       "115345   AT2J7H5TRZM8Z     46\n",
       "2098    A12DLJESJKM1OQ     46\n",
       "115439   AT6CZDCP4TRGA     41\n",
       "3765    A149RNR5RH19YY     41\n",
       "41666   A2AEZQ3DGBBLPR     40\n",
       "20292   A1MJMYLRTZ76ZX     38"
      ]
     },
     "execution_count": 21,
     "metadata": {},
     "output_type": "execute_result"
    }
   ],
   "source": [
    "(df_sub >> group_by(\n",
    "    X.userId\n",
    ") >> summarize(\n",
    "    Count = n(X.userId)\n",
    ") >> ungroup() >> arrange(\n",
    "    X.Count,ascending=False\n",
    ")).head(10)"
   ]
  },
  {
   "cell_type": "code",
   "execution_count": 22,
   "metadata": {},
   "outputs": [
    {
     "data": {
      "text/html": [
       "<div>\n",
       "<style scoped>\n",
       "    .dataframe tbody tr th:only-of-type {\n",
       "        vertical-align: middle;\n",
       "    }\n",
       "\n",
       "    .dataframe tbody tr th {\n",
       "        vertical-align: top;\n",
       "    }\n",
       "\n",
       "    .dataframe thead th {\n",
       "        text-align: right;\n",
       "    }\n",
       "</style>\n",
       "<table border=\"1\" class=\"dataframe\">\n",
       "  <thead>\n",
       "    <tr style=\"text-align: right;\">\n",
       "      <th></th>\n",
       "      <th>userId</th>\n",
       "      <th>productId</th>\n",
       "      <th>rating</th>\n",
       "      <th>timestamp</th>\n",
       "    </tr>\n",
       "  </thead>\n",
       "  <tbody>\n",
       "    <tr>\n",
       "      <th>31428</th>\n",
       "      <td>AGHZXQL9F94T9</td>\n",
       "      <td>B00002EQD2</td>\n",
       "      <td>5.0</td>\n",
       "      <td>1017187200</td>\n",
       "    </tr>\n",
       "    <tr>\n",
       "      <th>61812</th>\n",
       "      <td>AGHZXQL9F94T9</td>\n",
       "      <td>B00004XRED</td>\n",
       "      <td>5.0</td>\n",
       "      <td>1055635200</td>\n",
       "    </tr>\n",
       "    <tr>\n",
       "      <th>99076</th>\n",
       "      <td>AGHZXQL9F94T9</td>\n",
       "      <td>B00005ICE3</td>\n",
       "      <td>5.0</td>\n",
       "      <td>1013817600</td>\n",
       "    </tr>\n",
       "    <tr>\n",
       "      <th>111658</th>\n",
       "      <td>AGHZXQL9F94T9</td>\n",
       "      <td>B00005NVPW</td>\n",
       "      <td>2.0</td>\n",
       "      <td>1021507200</td>\n",
       "    </tr>\n",
       "    <tr>\n",
       "      <th>113379</th>\n",
       "      <td>AGHZXQL9F94T9</td>\n",
       "      <td>B00005OQMO</td>\n",
       "      <td>5.0</td>\n",
       "      <td>1006214400</td>\n",
       "    </tr>\n",
       "    <tr>\n",
       "      <th>131960</th>\n",
       "      <td>AGHZXQL9F94T9</td>\n",
       "      <td>B0000630TO</td>\n",
       "      <td>5.0</td>\n",
       "      <td>1052611200</td>\n",
       "    </tr>\n",
       "    <tr>\n",
       "      <th>134768</th>\n",
       "      <td>AGHZXQL9F94T9</td>\n",
       "      <td>B000063BGY</td>\n",
       "      <td>2.0</td>\n",
       "      <td>1022371200</td>\n",
       "    </tr>\n",
       "    <tr>\n",
       "      <th>137987</th>\n",
       "      <td>AGHZXQL9F94T9</td>\n",
       "      <td>B0000645C8</td>\n",
       "      <td>5.0</td>\n",
       "      <td>1021507200</td>\n",
       "    </tr>\n",
       "    <tr>\n",
       "      <th>138098</th>\n",
       "      <td>AGHZXQL9F94T9</td>\n",
       "      <td>B0000645C9</td>\n",
       "      <td>2.0</td>\n",
       "      <td>1020556800</td>\n",
       "    </tr>\n",
       "    <tr>\n",
       "      <th>144455</th>\n",
       "      <td>AGHZXQL9F94T9</td>\n",
       "      <td>B000065UTC</td>\n",
       "      <td>4.0</td>\n",
       "      <td>1059436800</td>\n",
       "    </tr>\n",
       "  </tbody>\n",
       "</table>\n",
       "</div>"
      ],
      "text/plain": [
       "               userId   productId  rating   timestamp\n",
       "31428   AGHZXQL9F94T9  B00002EQD2     5.0  1017187200\n",
       "61812   AGHZXQL9F94T9  B00004XRED     5.0  1055635200\n",
       "99076   AGHZXQL9F94T9  B00005ICE3     5.0  1013817600\n",
       "111658  AGHZXQL9F94T9  B00005NVPW     2.0  1021507200\n",
       "113379  AGHZXQL9F94T9  B00005OQMO     5.0  1006214400\n",
       "131960  AGHZXQL9F94T9  B0000630TO     5.0  1052611200\n",
       "134768  AGHZXQL9F94T9  B000063BGY     2.0  1022371200\n",
       "137987  AGHZXQL9F94T9  B0000645C8     5.0  1021507200\n",
       "138098  AGHZXQL9F94T9  B0000645C9     2.0  1020556800\n",
       "144455  AGHZXQL9F94T9  B000065UTC     4.0  1059436800"
      ]
     },
     "execution_count": 22,
     "metadata": {},
     "output_type": "execute_result"
    }
   ],
   "source": [
    "(df_sub >> mask(\n",
    "    X.userId == \"AGHZXQL9F94T9\"    \n",
    ")).head(10)"
   ]
  }
 ],
 "metadata": {
  "interpreter": {
   "hash": "aee8b7b246df8f9039afb4144a1f6fd8d2ca17a180786b69acc140d282b71a49"
  },
  "kernelspec": {
   "display_name": "Python 3.9.7 64-bit",
   "name": "python3"
  },
  "language_info": {
   "codemirror_mode": {
    "name": "ipython",
    "version": 3
   },
   "file_extension": ".py",
   "mimetype": "text/x-python",
   "name": "python",
   "nbconvert_exporter": "python",
   "pygments_lexer": "ipython3",
   "version": "3.9.7"
  },
  "orig_nbformat": 4
 },
 "nbformat": 4,
 "nbformat_minor": 2
}
