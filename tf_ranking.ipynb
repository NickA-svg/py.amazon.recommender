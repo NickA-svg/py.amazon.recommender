{
 "cells": [
  {
   "cell_type": "code",
   "execution_count": 1,
   "source": [
    "import tensorflow as tf\n",
    "import pandas as pd\n",
    "import numpy as np\n",
    "import matplotlib.pyplot as plt\n",
    "import seaborn as sns\n",
    "from dfply import *\n",
    "import tensorflow_recommenders as tfrs\n",
    "\n",
    "%matplotlib inline"
   ],
   "outputs": [],
   "metadata": {}
  },
  {
   "cell_type": "code",
   "execution_count": 2,
   "source": [
    "df = pd.read_csv(\"./data/ratings_Electronics.csv\", names=['userId', 'productId','rating','timestamp'])"
   ],
   "outputs": [],
   "metadata": {}
  },
  {
   "cell_type": "code",
   "execution_count": 3,
   "source": [
    "df.head()"
   ],
   "outputs": [
    {
     "output_type": "execute_result",
     "data": {
      "text/html": [
       "<div>\n",
       "<style scoped>\n",
       "    .dataframe tbody tr th:only-of-type {\n",
       "        vertical-align: middle;\n",
       "    }\n",
       "\n",
       "    .dataframe tbody tr th {\n",
       "        vertical-align: top;\n",
       "    }\n",
       "\n",
       "    .dataframe thead th {\n",
       "        text-align: right;\n",
       "    }\n",
       "</style>\n",
       "<table border=\"1\" class=\"dataframe\">\n",
       "  <thead>\n",
       "    <tr style=\"text-align: right;\">\n",
       "      <th></th>\n",
       "      <th>userId</th>\n",
       "      <th>productId</th>\n",
       "      <th>rating</th>\n",
       "      <th>timestamp</th>\n",
       "    </tr>\n",
       "  </thead>\n",
       "  <tbody>\n",
       "    <tr>\n",
       "      <th>0</th>\n",
       "      <td>AKM1MP6P0OYPR</td>\n",
       "      <td>0132793040</td>\n",
       "      <td>5.0</td>\n",
       "      <td>1365811200</td>\n",
       "    </tr>\n",
       "    <tr>\n",
       "      <th>1</th>\n",
       "      <td>A2CX7LUOHB2NDG</td>\n",
       "      <td>0321732944</td>\n",
       "      <td>5.0</td>\n",
       "      <td>1341100800</td>\n",
       "    </tr>\n",
       "    <tr>\n",
       "      <th>2</th>\n",
       "      <td>A2NWSAGRHCP8N5</td>\n",
       "      <td>0439886341</td>\n",
       "      <td>1.0</td>\n",
       "      <td>1367193600</td>\n",
       "    </tr>\n",
       "    <tr>\n",
       "      <th>3</th>\n",
       "      <td>A2WNBOD3WNDNKT</td>\n",
       "      <td>0439886341</td>\n",
       "      <td>3.0</td>\n",
       "      <td>1374451200</td>\n",
       "    </tr>\n",
       "    <tr>\n",
       "      <th>4</th>\n",
       "      <td>A1GI0U4ZRJA8WN</td>\n",
       "      <td>0439886341</td>\n",
       "      <td>1.0</td>\n",
       "      <td>1334707200</td>\n",
       "    </tr>\n",
       "  </tbody>\n",
       "</table>\n",
       "</div>"
      ],
      "text/plain": [
       "           userId   productId  rating   timestamp\n",
       "0   AKM1MP6P0OYPR  0132793040     5.0  1365811200\n",
       "1  A2CX7LUOHB2NDG  0321732944     5.0  1341100800\n",
       "2  A2NWSAGRHCP8N5  0439886341     1.0  1367193600\n",
       "3  A2WNBOD3WNDNKT  0439886341     3.0  1374451200\n",
       "4  A1GI0U4ZRJA8WN  0439886341     1.0  1334707200"
      ]
     },
     "metadata": {},
     "execution_count": 3
    }
   ],
   "metadata": {}
  },
  {
   "cell_type": "code",
   "execution_count": 4,
   "source": [
    "from datetime import datetime\n",
    "start_date = datetime.fromtimestamp(df[\"timestamp\"].min())\n",
    "end_date = datetime.fromtimestamp(df[\"timestamp\"].max())\n",
    "print(f\"start date: {start_date}.\")\n",
    "print(f\"end date: {end_date}.\")"
   ],
   "outputs": [
    {
     "output_type": "stream",
     "name": "stdout",
     "text": [
      "start date: 1998-12-04 00:00:00.\n",
      "end date: 2014-07-23 01:00:00.\n"
     ]
    }
   ],
   "metadata": {}
  },
  {
   "cell_type": "code",
   "execution_count": 5,
   "source": [
    "df_sub = df >> mask(\n",
    "    X.timestamp <= (X.timestamp.min() + X.timestamp.max())/2\n",
    ")\n",
    "df_sub"
   ],
   "outputs": [
    {
     "output_type": "execute_result",
     "data": {
      "text/html": [
       "<div>\n",
       "<style scoped>\n",
       "    .dataframe tbody tr th:only-of-type {\n",
       "        vertical-align: middle;\n",
       "    }\n",
       "\n",
       "    .dataframe tbody tr th {\n",
       "        vertical-align: top;\n",
       "    }\n",
       "\n",
       "    .dataframe thead th {\n",
       "        text-align: right;\n",
       "    }\n",
       "</style>\n",
       "<table border=\"1\" class=\"dataframe\">\n",
       "  <thead>\n",
       "    <tr style=\"text-align: right;\">\n",
       "      <th></th>\n",
       "      <th>userId</th>\n",
       "      <th>productId</th>\n",
       "      <th>rating</th>\n",
       "      <th>timestamp</th>\n",
       "    </tr>\n",
       "  </thead>\n",
       "  <tbody>\n",
       "    <tr>\n",
       "      <th>165</th>\n",
       "      <td>A2R4GEWPLORVSO</td>\n",
       "      <td>0899336795</td>\n",
       "      <td>2.0</td>\n",
       "      <td>1103328000</td>\n",
       "    </tr>\n",
       "    <tr>\n",
       "      <th>166</th>\n",
       "      <td>A1KKUYTDUZDZSA</td>\n",
       "      <td>0899336795</td>\n",
       "      <td>4.0</td>\n",
       "      <td>1104192000</td>\n",
       "    </tr>\n",
       "    <tr>\n",
       "      <th>170</th>\n",
       "      <td>A28K8QC9C4WPGE</td>\n",
       "      <td>0899336795</td>\n",
       "      <td>1.0</td>\n",
       "      <td>1141084800</td>\n",
       "    </tr>\n",
       "    <tr>\n",
       "      <th>171</th>\n",
       "      <td>A266DODBJYK0X</td>\n",
       "      <td>0899336795</td>\n",
       "      <td>1.0</td>\n",
       "      <td>1116806400</td>\n",
       "    </tr>\n",
       "    <tr>\n",
       "      <th>172</th>\n",
       "      <td>A17RBVZX3VTNBW</td>\n",
       "      <td>0899336795</td>\n",
       "      <td>1.0</td>\n",
       "      <td>1111449600</td>\n",
       "    </tr>\n",
       "    <tr>\n",
       "      <th>...</th>\n",
       "      <td>...</td>\n",
       "      <td>...</td>\n",
       "      <td>...</td>\n",
       "      <td>...</td>\n",
       "    </tr>\n",
       "    <tr>\n",
       "      <th>7341070</th>\n",
       "      <td>A2RWJ3QJRXGD96</td>\n",
       "      <td>B00D12U1IK</td>\n",
       "      <td>5.0</td>\n",
       "      <td>1155340800</td>\n",
       "    </tr>\n",
       "    <tr>\n",
       "      <th>7341075</th>\n",
       "      <td>AY8YVQBZ074SB</td>\n",
       "      <td>B00D12U1IK</td>\n",
       "      <td>5.0</td>\n",
       "      <td>1108425600</td>\n",
       "    </tr>\n",
       "    <tr>\n",
       "      <th>7438092</th>\n",
       "      <td>ALBE8E3807XTN</td>\n",
       "      <td>B00DR0PDNE</td>\n",
       "      <td>5.0</td>\n",
       "      <td>1044835200</td>\n",
       "    </tr>\n",
       "    <tr>\n",
       "      <th>7491311</th>\n",
       "      <td>A3Q6RSWV4M4052</td>\n",
       "      <td>B00E3QH61S</td>\n",
       "      <td>4.0</td>\n",
       "      <td>1135123200</td>\n",
       "    </tr>\n",
       "    <tr>\n",
       "      <th>7491314</th>\n",
       "      <td>A5NYI5YK2MOBY</td>\n",
       "      <td>B00E3QH61S</td>\n",
       "      <td>5.0</td>\n",
       "      <td>1089072000</td>\n",
       "    </tr>\n",
       "  </tbody>\n",
       "</table>\n",
       "<p>215147 rows × 4 columns</p>\n",
       "</div>"
      ],
      "text/plain": [
       "                 userId   productId  rating   timestamp\n",
       "165      A2R4GEWPLORVSO  0899336795     2.0  1103328000\n",
       "166      A1KKUYTDUZDZSA  0899336795     4.0  1104192000\n",
       "170      A28K8QC9C4WPGE  0899336795     1.0  1141084800\n",
       "171       A266DODBJYK0X  0899336795     1.0  1116806400\n",
       "172      A17RBVZX3VTNBW  0899336795     1.0  1111449600\n",
       "...                 ...         ...     ...         ...\n",
       "7341070  A2RWJ3QJRXGD96  B00D12U1IK     5.0  1155340800\n",
       "7341075   AY8YVQBZ074SB  B00D12U1IK     5.0  1108425600\n",
       "7438092   ALBE8E3807XTN  B00DR0PDNE     5.0  1044835200\n",
       "7491311  A3Q6RSWV4M4052  B00E3QH61S     4.0  1135123200\n",
       "7491314   A5NYI5YK2MOBY  B00E3QH61S     5.0  1089072000\n",
       "\n",
       "[215147 rows x 4 columns]"
      ]
     },
     "metadata": {},
     "execution_count": 5
    }
   ],
   "metadata": {}
  },
  {
   "cell_type": "code",
   "execution_count": 6,
   "source": [
    "ds = tf.data.Dataset.from_tensor_slices(dict(df_sub))"
   ],
   "outputs": [
    {
     "output_type": "stream",
     "name": "stderr",
     "text": [
      "2021-10-21 09:28:33.671209: I tensorflow/core/platform/cpu_feature_guard.cc:142] This TensorFlow binary is optimized with oneAPI Deep Neural Network Library (oneDNN) to use the following CPU instructions in performance-critical operations:  AVX2 FMA\n",
      "To enable them in other operations, rebuild TensorFlow with the appropriate compiler flags.\n"
     ]
    }
   ],
   "metadata": {}
  },
  {
   "cell_type": "code",
   "execution_count": 7,
   "source": [
    "rating = ds.map(lambda x: {\n",
    "    \"productId\": x[\"productId\"],\n",
    "    \"userId\": x[\"userId\"],\n",
    "    \"timestamp\": x[\"timestamp\"],\n",
    "    \"rating\": x[\"rating\"]\n",
    "})"
   ],
   "outputs": [],
   "metadata": {}
  },
  {
   "cell_type": "code",
   "execution_count": 8,
   "source": [
    "tf.random.set_seed(42)\n",
    "shuffled = rating.shuffle(100_000, seed=42, reshuffle_each_iteration=False)\n",
    "\n",
    "train = shuffled.take(80_000)\n",
    "test = shuffled.skip(80_000).take(20_000)"
   ],
   "outputs": [],
   "metadata": {}
  },
  {
   "cell_type": "code",
   "execution_count": 9,
   "source": [
    "products = rating.batch(1_000_000).map(lambda x: x[\"productId\"])\n",
    "user_ids = rating.batch(1_000_000).map(lambda x: x[\"userId\"])\n",
    "\n",
    "unique_products = np.unique(np.concatenate(list(products)))\n",
    "unique_user_ids = np.unique(np.concatenate(list(user_ids)))"
   ],
   "outputs": [
    {
     "output_type": "stream",
     "name": "stderr",
     "text": [
      "2021-10-21 09:28:38.723667: I tensorflow/compiler/mlir/mlir_graph_optimization_pass.cc:185] None of the MLIR Optimization Passes are enabled (registered 2)\n"
     ]
    }
   ],
   "metadata": {}
  },
  {
   "cell_type": "code",
   "execution_count": 10,
   "source": [
    "timestamps = np.concatenate(list(rating.map(lambda x: x[\"timestamp\"]).batch(100)))\n",
    "\n",
    "max_timestamp = timestamps.max()\n",
    "min_timestamp = timestamps.min()\n",
    "\n",
    "timestamp_buckets = np.linspace(\n",
    "    min_timestamp, max_timestamp, num=1000,\n",
    ")"
   ],
   "outputs": [],
   "metadata": {}
  },
  {
   "cell_type": "code",
   "execution_count": 18,
   "source": [
    "class RankingModel(tf.keras.Model):\n",
    "\n",
    "  def __init__(self):\n",
    "    super().__init__()\n",
    "    embedding_dimension = 32\n",
    "\n",
    "    # Compute embeddings for users.\n",
    "    self.user_embeddings = tf.keras.Sequential([\n",
    "      tf.keras.layers.StringLookup(\n",
    "        vocabulary=unique_user_ids, mask_token=None),\n",
    "      tf.keras.layers.Embedding(len(unique_user_ids) + 1, embedding_dimension)\n",
    "    ])\n",
    "\n",
    "    # Compute embeddings for products.\n",
    "    self.product_embeddings = tf.keras.Sequential([\n",
    "      tf.keras.layers.StringLookup(\n",
    "        vocabulary=unique_products, mask_token=None),\n",
    "      tf.keras.layers.Embedding(len(unique_products) + 1, embedding_dimension)\n",
    "    ])\n",
    "\n",
    "    #Compute embeddings for time of rating.\n",
    "    self.timestamp_embedding = tf.keras.Sequential([\n",
    "          tf.keras.layers.Discretization(timestamp_buckets.tolist()),\n",
    "          tf.keras.layers.Embedding(len(timestamp_buckets) + 1, 32),\n",
    "      ])\n",
    "\n",
    "    # Compute predictions.\n",
    "    self.ratings = tf.keras.Sequential([\n",
    "      # Learn multiple dense layers.\n",
    "      tf.keras.layers.Dense(256, activation=\"relu\"),\n",
    "      tf.keras.layers.Dense(64, activation=\"relu\"),\n",
    "      # Make rating predictions in the final layer.\n",
    "      tf.keras.layers.Dense(1)\n",
    "  ])\n",
    "\n",
    "  def call(self, inputs):\n",
    "\n",
    "    user_id, timestamp, products = inputs\n",
    "\n",
    "    user_embedding = self.user_embeddings(user_id)\n",
    "    timestamp_embedding = self.timestamp_embedding(timestamp)\n",
    "    product_embedding = self.product_embeddings(products)\n",
    "\n",
    "\n",
    "    return self.ratings(tf.concat([user_embedding, timestamp_embedding, product_embedding], axis=1))"
   ],
   "outputs": [],
   "metadata": {}
  },
  {
   "cell_type": "code",
   "execution_count": 35,
   "source": [
    "RankingModel()(([\"AT6CZDCP4TRGA\"],[df_sub.timestamp.max()],[\"0439886341\"]))"
   ],
   "outputs": [
    {
     "output_type": "stream",
     "name": "stdout",
     "text": [
      "WARNING:tensorflow:Layers in a Sequential model should only have a single input tensor, but we receive a <class 'list'> input: ['AT6CZDCP4TRGA']\n",
      "Consider rewriting this model with the Functional API.\n",
      "WARNING:tensorflow:Layers in a Sequential model should only have a single input tensor, but we receive a <class 'list'> input: [1159401600]\n",
      "Consider rewriting this model with the Functional API.\n",
      "WARNING:tensorflow:Layers in a Sequential model should only have a single input tensor, but we receive a <class 'list'> input: ['0439886341']\n",
      "Consider rewriting this model with the Functional API.\n"
     ]
    },
    {
     "output_type": "execute_result",
     "data": {
      "text/plain": [
       "<tf.Tensor: shape=(1, 1), dtype=float32, numpy=array([[0.02492321]], dtype=float32)>"
      ]
     },
     "metadata": {},
     "execution_count": 35
    }
   ],
   "metadata": {}
  },
  {
   "cell_type": "code",
   "execution_count": 22,
   "source": [
    "from typing import Dict, Text\n",
    "class ProductRankModel(tfrs.models.Model):\n",
    "\n",
    "  def __init__(self):\n",
    "    super().__init__()\n",
    "    self.ranking_model: tf.keras.Model = RankingModel()\n",
    "    self.task: tf.keras.layers.Layer = tfrs.tasks.Ranking(\n",
    "      loss = tf.keras.losses.MeanSquaredError(),\n",
    "      metrics=[tf.keras.metrics.RootMeanSquaredError()]\n",
    "    )\n",
    "\n",
    "  def call(self, features: Dict[str, tf.Tensor]) -> tf.Tensor:\n",
    "    return self.ranking_model(\n",
    "        (features[\"userId\"], features[\"timestamp\"], features[\"productId\"]))\n",
    "\n",
    "  def compute_loss(self, features: Dict[Text, tf.Tensor], training=False) -> tf.Tensor:\n",
    "    labels = features.pop(\"rating\")\n",
    "\n",
    "    rating_predictions = self(features)\n",
    "\n",
    "    # The task computes the loss and the metrics.\n",
    "    return self.task(labels=labels, predictions=rating_predictions)"
   ],
   "outputs": [],
   "metadata": {}
  },
  {
   "cell_type": "code",
   "execution_count": 23,
   "source": [
    "rank_model = ProductRankModel()\n",
    "rank_model.compile(optimizer=tf.keras.optimizers.Adagrad(learning_rate=0.1))"
   ],
   "outputs": [],
   "metadata": {}
  },
  {
   "cell_type": "code",
   "execution_count": 24,
   "source": [
    "cached_train = train.shuffle(100_000).batch(8192).cache()\n",
    "cached_test = test.batch(4096).cache()"
   ],
   "outputs": [],
   "metadata": {}
  },
  {
   "cell_type": "code",
   "execution_count": 25,
   "source": [
    "rank_model.fit(cached_train, epochs=3)"
   ],
   "outputs": [
    {
     "output_type": "stream",
     "name": "stdout",
     "text": [
      "Epoch 1/3\n",
      "10/10 [==============================] - 2s 44ms/step - root_mean_squared_error: 2.4597 - loss: 5.6242 - regularization_loss: 0.0000e+00 - total_loss: 5.6242\n",
      "Epoch 2/3\n",
      "10/10 [==============================] - 0s 19ms/step - root_mean_squared_error: 1.4999 - loss: 2.2494 - regularization_loss: 0.0000e+00 - total_loss: 2.2494\n",
      "Epoch 3/3\n",
      "10/10 [==============================] - 0s 19ms/step - root_mean_squared_error: 1.4981 - loss: 2.2443 - regularization_loss: 0.0000e+00 - total_loss: 2.2443\n"
     ]
    },
    {
     "output_type": "execute_result",
     "data": {
      "text/plain": [
       "<keras.callbacks.History at 0x1a58e1070>"
      ]
     },
     "metadata": {},
     "execution_count": 25
    }
   ],
   "metadata": {}
  },
  {
   "cell_type": "code",
   "execution_count": 26,
   "source": [
    "rank_model.evaluate(cached_test, return_dict=True)"
   ],
   "outputs": [
    {
     "output_type": "stream",
     "name": "stdout",
     "text": [
      "5/5 [==============================] - 1s 68ms/step - root_mean_squared_error: 1.5125 - loss: 2.2787 - regularization_loss: 0.0000e+00 - total_loss: 2.2787\n"
     ]
    },
    {
     "output_type": "execute_result",
     "data": {
      "text/plain": [
       "{'root_mean_squared_error': 1.5124731063842773,\n",
       " 'loss': 2.240142822265625,\n",
       " 'regularization_loss': 0,\n",
       " 'total_loss': 2.240142822265625}"
      ]
     },
     "metadata": {},
     "execution_count": 26
    }
   ],
   "metadata": {}
  },
  {
   "cell_type": "code",
   "execution_count": 34,
   "source": [
    "test_ratings = {}\n",
    "test_products = [\"B00005A1K1\", \"0439886341\",\"6301977173\",\"7805717443\",\"B00005RKO5\"]\n",
    "for product in test_products:\n",
    "  test_ratings[product] = rank_model({\n",
    "      \"userId\": np.array([\"AGHZXQL9F94T9\"]),\n",
    "      \"timestamp\": np.array([df_sub.timestamp.max()]),\n",
    "      \"productId\": np.array([product])\n",
    "  })\n",
    "\n",
    "print(\"Ratings:\")\n",
    "for title, score in sorted(test_ratings.items(), key=lambda x: x[1], reverse=True):\n",
    "  print(f\"{title}: {score}\")"
   ],
   "outputs": [
    {
     "output_type": "stream",
     "name": "stdout",
     "text": [
      "Ratings:\n",
      "6301977173: [[3.707836]]\n",
      "B00005A1K1: [[3.6616886]]\n",
      "7805717443: [[3.638921]]\n",
      "0439886341: [[3.593733]]\n",
      "B00005RKO5: [[3.5905035]]\n"
     ]
    }
   ],
   "metadata": {}
  },
  {
   "cell_type": "code",
   "execution_count": 28,
   "source": [
    "(df_sub >> group_by(\n",
    "    X.userId\n",
    ") >> summarize(\n",
    "    Count = n(X.userId)\n",
    ") >> ungroup() >> arrange(\n",
    "    X.Count,ascending=False\n",
    ")).head(10)"
   ],
   "outputs": [
    {
     "output_type": "execute_result",
     "data": {
      "text/html": [
       "<div>\n",
       "<style scoped>\n",
       "    .dataframe tbody tr th:only-of-type {\n",
       "        vertical-align: middle;\n",
       "    }\n",
       "\n",
       "    .dataframe tbody tr th {\n",
       "        vertical-align: top;\n",
       "    }\n",
       "\n",
       "    .dataframe thead th {\n",
       "        text-align: right;\n",
       "    }\n",
       "</style>\n",
       "<table border=\"1\" class=\"dataframe\">\n",
       "  <thead>\n",
       "    <tr style=\"text-align: right;\">\n",
       "      <th></th>\n",
       "      <th>userId</th>\n",
       "      <th>Count</th>\n",
       "    </tr>\n",
       "  </thead>\n",
       "  <tbody>\n",
       "    <tr>\n",
       "      <th>126264</th>\n",
       "      <td>A5JLAU2ARJ0BO</td>\n",
       "      <td>374</td>\n",
       "    </tr>\n",
       "    <tr>\n",
       "      <th>46877</th>\n",
       "      <td>A231WM2Z2JL0U3</td>\n",
       "      <td>249</td>\n",
       "    </tr>\n",
       "    <tr>\n",
       "      <th>49805</th>\n",
       "      <td>A25HBO5V8S8SEA</td>\n",
       "      <td>164</td>\n",
       "    </tr>\n",
       "    <tr>\n",
       "      <th>144274</th>\n",
       "      <td>AKT8TGIT6VVZ5</td>\n",
       "      <td>112</td>\n",
       "    </tr>\n",
       "    <tr>\n",
       "      <th>154132</th>\n",
       "      <td>AT6CZDCP4TRGA</td>\n",
       "      <td>94</td>\n",
       "    </tr>\n",
       "    <tr>\n",
       "      <th>1647</th>\n",
       "      <td>A11D1KHM7DVOQK</td>\n",
       "      <td>90</td>\n",
       "    </tr>\n",
       "    <tr>\n",
       "      <th>56487</th>\n",
       "      <td>A2B7BUH8834Y6M</td>\n",
       "      <td>87</td>\n",
       "    </tr>\n",
       "    <tr>\n",
       "      <th>55605</th>\n",
       "      <td>A2AEZQ3DGBBLPR</td>\n",
       "      <td>80</td>\n",
       "    </tr>\n",
       "    <tr>\n",
       "      <th>139230</th>\n",
       "      <td>AGHZXQL9F94T9</td>\n",
       "      <td>73</td>\n",
       "    </tr>\n",
       "    <tr>\n",
       "      <th>2774</th>\n",
       "      <td>A12DLJESJKM1OQ</td>\n",
       "      <td>64</td>\n",
       "    </tr>\n",
       "  </tbody>\n",
       "</table>\n",
       "</div>"
      ],
      "text/plain": [
       "                userId  Count\n",
       "126264   A5JLAU2ARJ0BO    374\n",
       "46877   A231WM2Z2JL0U3    249\n",
       "49805   A25HBO5V8S8SEA    164\n",
       "144274   AKT8TGIT6VVZ5    112\n",
       "154132   AT6CZDCP4TRGA     94\n",
       "1647    A11D1KHM7DVOQK     90\n",
       "56487   A2B7BUH8834Y6M     87\n",
       "55605   A2AEZQ3DGBBLPR     80\n",
       "139230   AGHZXQL9F94T9     73\n",
       "2774    A12DLJESJKM1OQ     64"
      ]
     },
     "metadata": {},
     "execution_count": 28
    }
   ],
   "metadata": {}
  },
  {
   "cell_type": "code",
   "execution_count": 33,
   "source": [
    "(df_sub >> mask(\n",
    "    X.userId == \"AGHZXQL9F94T9\"    \n",
    ")).head(10)"
   ],
   "outputs": [
    {
     "output_type": "execute_result",
     "data": {
      "text/html": [
       "<div>\n",
       "<style scoped>\n",
       "    .dataframe tbody tr th:only-of-type {\n",
       "        vertical-align: middle;\n",
       "    }\n",
       "\n",
       "    .dataframe tbody tr th {\n",
       "        vertical-align: top;\n",
       "    }\n",
       "\n",
       "    .dataframe thead th {\n",
       "        text-align: right;\n",
       "    }\n",
       "</style>\n",
       "<table border=\"1\" class=\"dataframe\">\n",
       "  <thead>\n",
       "    <tr style=\"text-align: right;\">\n",
       "      <th></th>\n",
       "      <th>userId</th>\n",
       "      <th>productId</th>\n",
       "      <th>rating</th>\n",
       "      <th>timestamp</th>\n",
       "    </tr>\n",
       "  </thead>\n",
       "  <tbody>\n",
       "    <tr>\n",
       "      <th>31428</th>\n",
       "      <td>AGHZXQL9F94T9</td>\n",
       "      <td>B00002EQD2</td>\n",
       "      <td>5.0</td>\n",
       "      <td>1017187200</td>\n",
       "    </tr>\n",
       "    <tr>\n",
       "      <th>61812</th>\n",
       "      <td>AGHZXQL9F94T9</td>\n",
       "      <td>B00004XRED</td>\n",
       "      <td>5.0</td>\n",
       "      <td>1055635200</td>\n",
       "    </tr>\n",
       "    <tr>\n",
       "      <th>99076</th>\n",
       "      <td>AGHZXQL9F94T9</td>\n",
       "      <td>B00005ICE3</td>\n",
       "      <td>5.0</td>\n",
       "      <td>1013817600</td>\n",
       "    </tr>\n",
       "    <tr>\n",
       "      <th>111658</th>\n",
       "      <td>AGHZXQL9F94T9</td>\n",
       "      <td>B00005NVPW</td>\n",
       "      <td>2.0</td>\n",
       "      <td>1021507200</td>\n",
       "    </tr>\n",
       "    <tr>\n",
       "      <th>113379</th>\n",
       "      <td>AGHZXQL9F94T9</td>\n",
       "      <td>B00005OQMO</td>\n",
       "      <td>5.0</td>\n",
       "      <td>1006214400</td>\n",
       "    </tr>\n",
       "    <tr>\n",
       "      <th>115958</th>\n",
       "      <td>AGHZXQL9F94T9</td>\n",
       "      <td>B00005QWZ7</td>\n",
       "      <td>1.0</td>\n",
       "      <td>1007078400</td>\n",
       "    </tr>\n",
       "    <tr>\n",
       "      <th>116953</th>\n",
       "      <td>AGHZXQL9F94T9</td>\n",
       "      <td>B00005RKO5</td>\n",
       "      <td>1.0</td>\n",
       "      <td>1039046400</td>\n",
       "    </tr>\n",
       "    <tr>\n",
       "      <th>131960</th>\n",
       "      <td>AGHZXQL9F94T9</td>\n",
       "      <td>B0000630TO</td>\n",
       "      <td>5.0</td>\n",
       "      <td>1052611200</td>\n",
       "    </tr>\n",
       "    <tr>\n",
       "      <th>134768</th>\n",
       "      <td>AGHZXQL9F94T9</td>\n",
       "      <td>B000063BGY</td>\n",
       "      <td>2.0</td>\n",
       "      <td>1022371200</td>\n",
       "    </tr>\n",
       "    <tr>\n",
       "      <th>137987</th>\n",
       "      <td>AGHZXQL9F94T9</td>\n",
       "      <td>B0000645C8</td>\n",
       "      <td>5.0</td>\n",
       "      <td>1021507200</td>\n",
       "    </tr>\n",
       "  </tbody>\n",
       "</table>\n",
       "</div>"
      ],
      "text/plain": [
       "               userId   productId  rating   timestamp\n",
       "31428   AGHZXQL9F94T9  B00002EQD2     5.0  1017187200\n",
       "61812   AGHZXQL9F94T9  B00004XRED     5.0  1055635200\n",
       "99076   AGHZXQL9F94T9  B00005ICE3     5.0  1013817600\n",
       "111658  AGHZXQL9F94T9  B00005NVPW     2.0  1021507200\n",
       "113379  AGHZXQL9F94T9  B00005OQMO     5.0  1006214400\n",
       "115958  AGHZXQL9F94T9  B00005QWZ7     1.0  1007078400\n",
       "116953  AGHZXQL9F94T9  B00005RKO5     1.0  1039046400\n",
       "131960  AGHZXQL9F94T9  B0000630TO     5.0  1052611200\n",
       "134768  AGHZXQL9F94T9  B000063BGY     2.0  1022371200\n",
       "137987  AGHZXQL9F94T9  B0000645C8     5.0  1021507200"
      ]
     },
     "metadata": {},
     "execution_count": 33
    }
   ],
   "metadata": {}
  },
  {
   "cell_type": "code",
   "execution_count": null,
   "source": [],
   "outputs": [],
   "metadata": {}
  }
 ],
 "metadata": {
  "orig_nbformat": 4,
  "language_info": {
   "name": "python",
   "version": "3.9.7",
   "mimetype": "text/x-python",
   "codemirror_mode": {
    "name": "ipython",
    "version": 3
   },
   "pygments_lexer": "ipython3",
   "nbconvert_exporter": "python",
   "file_extension": ".py"
  },
  "kernelspec": {
   "name": "python3",
   "display_name": "Python 3.9.7 64-bit"
  },
  "interpreter": {
   "hash": "aee8b7b246df8f9039afb4144a1f6fd8d2ca17a180786b69acc140d282b71a49"
  }
 },
 "nbformat": 4,
 "nbformat_minor": 2
}