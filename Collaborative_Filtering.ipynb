{
 "cells": [
  {
   "cell_type": "markdown",
   "metadata": {},
   "source": [
    "# User-based CF"
   ]
  },
  {
   "cell_type": "code",
   "execution_count": 1,
   "metadata": {},
   "outputs": [],
   "source": [
    "from Electronics import Electronics\n",
    "from surprise import KNNBasic\n",
    "import heapq\n",
    "from collections import defaultdict\n",
    "from operator import itemgetter"
   ]
  },
  {
   "cell_type": "code",
   "execution_count": 3,
   "metadata": {},
   "outputs": [
    {
     "name": "stdout",
     "output_type": "stream",
     "text": [
      "Computing the cosine similarity matrix...\n",
      "Done computing similarity matrix.\n",
      "Computing the cosine similarity matrix...\n",
      "Done computing similarity matrix.\n"
     ]
    }
   ],
   "source": [
    "testSubject = \"AGHZXQL9F94T9\"\n",
    "k = 10\n",
    "\n",
    "# Load our data set and compute the user similarity matrix\n",
    "ml = Electronics()\n",
    "data = ml.loadElectronics()\n",
    "\n",
    "trainSet = data.build_full_trainset()\n",
    "\n",
    "sim_options = {'name': 'cosine',\n",
    "               'user_based': True\n",
    "               }\n",
    "\n",
    "model = KNNBasic(sim_options=sim_options)\n",
    "model.fit(trainSet)\n",
    "simsMatrix = model.compute_similarities()"
   ]
  },
  {
   "cell_type": "code",
   "execution_count": 4,
   "metadata": {},
   "outputs": [],
   "source": [
    "testUserInnerID = trainSet.to_inner_uid(testSubject)\n",
    "similarityRow = simsMatrix[testUserInnerID]\n",
    "\n",
    "similarUsers = []\n",
    "for innerID, score in enumerate(similarityRow):\n",
    "    if (innerID != testUserInnerID):\n",
    "        similarUsers.append( (innerID, score) )\n",
    "\n",
    "kNeighbors = heapq.nlargest(k, similarUsers, key=lambda t: t[1])"
   ]
  },
  {
   "cell_type": "code",
   "execution_count": 5,
   "metadata": {},
   "outputs": [],
   "source": [
    "candidates = defaultdict(float)\n",
    "for similarUser in kNeighbors:\n",
    "    innerID = similarUser[0]\n",
    "    userSimilarityScore = similarUser[1]\n",
    "    theirRatings = trainSet.ur[innerID]\n",
    "    for rating in theirRatings:\n",
    "        candidates[rating[0]] += (rating[1] / 5.0) * userSimilarityScore"
   ]
  },
  {
   "cell_type": "code",
   "execution_count": 6,
   "metadata": {},
   "outputs": [],
   "source": [
    "purchased = {}\n",
    "for itemID, rating in trainSet.ur[testUserInnerID]:\n",
    "    purchased[itemID] = 1"
   ]
  },
  {
   "cell_type": "code",
   "execution_count": 8,
   "metadata": {},
   "outputs": [
    {
     "name": "stdout",
     "output_type": "stream",
     "text": [
      "B000089GN3 3.0\n",
      "B003ES5ZUU 3.0\n",
      "B003L1ZYZ6 3.0\n",
      "B00829TIEK 2.8\n",
      "B008DWCRQW 2.6\n",
      "B00001P4ZH 2.6\n",
      "B00452V66G 2.4\n",
      "B000BKJZ9Q 2.2\n",
      "B00004RC2D 2.0\n",
      "B0001DBEM4 2.0\n",
      "B000EVSLRO 2.0\n"
     ]
    }
   ],
   "source": [
    "pos = 0\n",
    "for itemID, ratingSum in sorted(candidates.items(), key=itemgetter(1), reverse=True):\n",
    "    if not itemID in purchased:\n",
    "        productId = trainSet.to_raw_iid(itemID)\n",
    "        print(ml.getProductName(productId), ratingSum)\n",
    "        pos += 1\n",
    "        if (pos > 10):\n",
    "            break"
   ]
  },
  {
   "cell_type": "markdown",
   "metadata": {},
   "source": [
    "# Item-based CF"
   ]
  },
  {
   "cell_type": "code",
   "execution_count": 9,
   "metadata": {},
   "outputs": [
    {
     "name": "stdout",
     "output_type": "stream",
     "text": [
      "Computing the cosine similarity matrix...\n",
      "Done computing similarity matrix.\n",
      "Computing the cosine similarity matrix...\n",
      "Done computing similarity matrix.\n"
     ]
    }
   ],
   "source": [
    "testSubject = \"AGHZXQL9F94T9\"\n",
    "k = 10\n",
    "\n",
    "ml = Electronics()\n",
    "data = ml.loadElectronics()\n",
    "\n",
    "trainSet = data.build_full_trainset()\n",
    "\n",
    "sim_options = {'name': 'cosine',\n",
    "               'user_based': False\n",
    "               }\n",
    "\n",
    "model = KNNBasic(sim_options=sim_options)\n",
    "model.fit(trainSet)\n",
    "simsMatrix = model.compute_similarities()\n",
    "\n",
    "testUserInnerID = trainSet.to_inner_uid(testSubject)"
   ]
  },
  {
   "cell_type": "code",
   "execution_count": 10,
   "metadata": {},
   "outputs": [],
   "source": [
    "testUserRatings = trainSet.ur[testUserInnerID]\n",
    "kNeighbors = heapq.nlargest(k, testUserRatings, key=lambda t: t[1])"
   ]
  },
  {
   "cell_type": "code",
   "execution_count": 11,
   "metadata": {},
   "outputs": [],
   "source": [
    "candidates = defaultdict(float)\n",
    "for itemID, rating in kNeighbors:\n",
    "    similarityRow = simsMatrix[itemID]\n",
    "    for innerID, score in enumerate(similarityRow):\n",
    "        candidates[innerID] += score * (rating / 5.0)"
   ]
  },
  {
   "cell_type": "code",
   "execution_count": 12,
   "metadata": {},
   "outputs": [],
   "source": [
    "purchased = {}\n",
    "for itemID, rating in trainSet.ur[testUserInnerID]:\n",
    "    purchased[itemID] = 1"
   ]
  },
  {
   "cell_type": "code",
   "execution_count": 14,
   "metadata": {},
   "outputs": [
    {
     "name": "stdout",
     "output_type": "stream",
     "text": [
      "B00004SB92 5.0\n",
      "B00002SWHH 4.0\n",
      "B00004RC2D 4.0\n",
      "B000050NON 4.0\n",
      "B00000JSGF 3.0\n",
      "B00000K4KH 3.0\n",
      "B000021YUO 3.0\n",
      "B000023VUL 3.0\n",
      "B000028F42 3.0\n",
      "B000038AB2 3.0\n",
      "B00003G1RG 3.0\n"
     ]
    }
   ],
   "source": [
    "# Get top-rated items from similar items:\n",
    "pos = 0\n",
    "for itemID, ratingSum in sorted(candidates.items(), key=itemgetter(1), reverse=True):\n",
    "    if not itemID in purchased:\n",
    "        productId = trainSet.to_raw_iid(itemID)\n",
    "        print(ml.getProductName(productId), ratingSum)\n",
    "        pos += 1\n",
    "        if (pos > 10):\n",
    "            break"
   ]
  },
  {
   "cell_type": "markdown",
   "metadata": {},
   "source": [
    "# Compare KNN CF "
   ]
  },
  {
   "cell_type": "code",
   "execution_count": 15,
   "metadata": {},
   "outputs": [],
   "source": [
    "from Electronics import Electronics\n",
    "from surprise import KNNBasic, KNNWithMeans, KNNWithZScore\n",
    "from Evaluator import Evaluator\n",
    "\n",
    "import random\n",
    "import numpy as np"
   ]
  },
  {
   "cell_type": "code",
   "execution_count": 16,
   "metadata": {},
   "outputs": [],
   "source": [
    "def LoadData():\n",
    "    ml = Electronics()\n",
    "    print(\"Loading product ratings...\")\n",
    "    data = ml.loadElectronics()\n",
    "    print(\"\\nComputing product popularity ranks so we can measure novelty later...\")\n",
    "    rankings = ml.getPopularityRanks()\n",
    "    return (ml, data, rankings)\n",
    "\n",
    "np.random.seed(0)\n",
    "random.seed(0)"
   ]
  },
  {
   "cell_type": "code",
   "execution_count": 17,
   "metadata": {},
   "outputs": [
    {
     "name": "stdout",
     "output_type": "stream",
     "text": [
      "Loading product ratings...\n",
      "\n",
      "Computing product popularity ranks so we can measure novelty later...\n",
      "Estimating biases using als...\n",
      "Computing the cosine similarity matrix...\n",
      "Done computing similarity matrix.\n"
     ]
    }
   ],
   "source": [
    "# Load up common data set for the recommender algorithms\n",
    "(ml, evaluationData, rankings) = LoadData()\n",
    "\n",
    "# Construct an Evaluator to, you know, evaluate them\n",
    "evaluator = Evaluator(evaluationData, rankings)"
   ]
  },
  {
   "cell_type": "code",
   "execution_count": 18,
   "metadata": {},
   "outputs": [],
   "source": [
    "# User-based KNN\n",
    "UserKNN = KNNBasic(sim_options = {'name': 'cosine', 'user_based': True})\n",
    "evaluator.AddAlgorithm(UserKNN, \"User KNN\")"
   ]
  },
  {
   "cell_type": "code",
   "execution_count": 19,
   "metadata": {},
   "outputs": [],
   "source": [
    "# Item-based KNN\n",
    "ItemKNN = KNNBasic(sim_options = {'name': 'cosine', 'user_based': False})\n",
    "evaluator.AddAlgorithm(ItemKNN, \"Item KNN\")"
   ]
  },
  {
   "cell_type": "code",
   "execution_count": 20,
   "metadata": {},
   "outputs": [],
   "source": [
    "kNN2 = KNNWithMeans(sim_options = {'name': 'cosine', 'user_based': True})\n",
    "evaluator.AddAlgorithm(kNN2, \"User KNNWithMeans\")"
   ]
  },
  {
   "cell_type": "code",
   "execution_count": 21,
   "metadata": {},
   "outputs": [],
   "source": [
    "kNN3 = KNNWithZScore(sim_options = {'name': 'cosine', 'user_based': True})\n",
    "evaluator.AddAlgorithm(kNN3, \"User KNNWithZScore\")"
   ]
  },
  {
   "cell_type": "code",
   "execution_count": 22,
   "metadata": {},
   "outputs": [
    {
     "name": "stdout",
     "output_type": "stream",
     "text": [
      "Evaluating  User KNN ...\n",
      "Evaluating accuracy...\n",
      "Computing the cosine similarity matrix...\n",
      "Done computing similarity matrix.\n",
      "Analysis complete.\n",
      "Evaluating  Item KNN ...\n",
      "Evaluating accuracy...\n",
      "Computing the cosine similarity matrix...\n",
      "Done computing similarity matrix.\n",
      "Analysis complete.\n",
      "Evaluating  User KNNWithMeans ...\n",
      "Evaluating accuracy...\n",
      "Computing the cosine similarity matrix...\n",
      "Done computing similarity matrix.\n",
      "Analysis complete.\n",
      "Evaluating  User KNNWithZScore ...\n",
      "Evaluating accuracy...\n",
      "Computing the cosine similarity matrix...\n",
      "Done computing similarity matrix.\n",
      "Analysis complete.\n",
      "\n",
      "\n",
      "Algorithm  RMSE       MAE       \n",
      "User KNN   1.0706     0.7539    \n",
      "Item KNN   1.0515     0.7462    \n",
      "User KNNWithMeans 1.0155     0.7143    \n",
      "User KNNWithZScore 1.0172     0.7082    \n",
      "\n",
      "Legend:\n",
      "\n",
      "RMSE:      Root Mean Squared Error. Lower values mean better accuracy.\n",
      "MAE:       Mean Absolute Error. Lower values mean better accuracy.\n",
      "\n",
      "Using recommender  User KNN\n",
      "\n",
      "Building recommendation model...\n",
      "Computing the cosine similarity matrix...\n",
      "Done computing similarity matrix.\n",
      "Computing recommendations...\n",
      "\n",
      "We recommend:\n",
      "B000001OM4 5\n",
      "B000001OMI 5\n",
      "B00000J061 5\n",
      "B00000J1UQ 5\n",
      "B00000K4KH 5\n",
      "B00001P4XA 5\n",
      "B00001QEMF 5\n",
      "B00001W0DI 5\n",
      "B000021YUO 5\n",
      "B000028F42 5\n",
      "\n",
      "Using recommender  Item KNN\n",
      "\n",
      "Building recommendation model...\n",
      "Computing the cosine similarity matrix...\n",
      "Done computing similarity matrix.\n",
      "Computing recommendations...\n",
      "\n",
      "We recommend:\n",
      "1400599997 5\n",
      "B000001OM4 5\n",
      "B00001P4ZR 5\n",
      "B00001QEMF 5\n",
      "B000021YU8 5\n",
      "B00004RG6K 5\n",
      "B00004WCID 5\n",
      "B00004Y7TD 5\n",
      "B000053HBB 5\n",
      "B000056SJT 5\n",
      "\n",
      "Using recommender  User KNNWithMeans\n",
      "\n",
      "Building recommendation model...\n",
      "Computing the cosine similarity matrix...\n",
      "Done computing similarity matrix.\n",
      "Computing recommendations...\n",
      "\n",
      "We recommend:\n",
      "B00004Y7TD 5\n",
      "B00005AWCL 5\n",
      "B00005T3Q2 5\n",
      "B00006RVPW 5\n",
      "B000093UDQ 5\n",
      "B0000AZK4G 5\n",
      "B0000C20T5 5\n",
      "B0001XGQV8 5\n",
      "B0002IOIMQ 5\n",
      "B0002LEMWE 5\n",
      "\n",
      "Using recommender  User KNNWithZScore\n",
      "\n",
      "Building recommendation model...\n",
      "Computing the cosine similarity matrix...\n",
      "Done computing similarity matrix.\n",
      "Computing recommendations...\n",
      "\n",
      "We recommend:\n",
      "B00006RVPW 5\n",
      "B000093UDQ 5\n",
      "B0000AZ67Z 5\n",
      "B0000AZK4G 5\n",
      "B0001XGQV8 5\n",
      "B0002IOIMQ 5\n",
      "B0002K6Y1C 5\n",
      "B0002YV8EG 5\n",
      "B00080G0BK 5\n",
      "B0009F3SGE 5\n"
     ]
    }
   ],
   "source": [
    "evaluator.Evaluate(False)\n",
    "\n",
    "evaluator.SampleTopNRecs(ml)"
   ]
  }
 ],
 "metadata": {
  "interpreter": {
   "hash": "aee8b7b246df8f9039afb4144a1f6fd8d2ca17a180786b69acc140d282b71a49"
  },
  "kernelspec": {
   "display_name": "Python 3.9.7 64-bit",
   "name": "python3"
  },
  "language_info": {
   "codemirror_mode": {
    "name": "ipython",
    "version": 3
   },
   "file_extension": ".py",
   "mimetype": "text/x-python",
   "name": "python",
   "nbconvert_exporter": "python",
   "pygments_lexer": "ipython3",
   "version": "3.9.7"
  },
  "orig_nbformat": 4
 },
 "nbformat": 4,
 "nbformat_minor": 2
}
