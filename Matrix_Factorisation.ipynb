{
 "cells": [
  {
   "cell_type": "code",
   "execution_count": 1,
   "metadata": {},
   "outputs": [],
   "source": [
    "from surprise import SVD, SVDpp\n",
    "from surprise import NormalPredictor\n",
    "from Evaluator import Evaluator\n",
    "from create_small_data import small_data\n",
    "\n",
    "import random\n",
    "import numpy as np\n",
    "import pandas as pd"
   ]
  },
  {
   "cell_type": "code",
   "execution_count": 2,
   "metadata": {},
   "outputs": [
    {
     "name": "stdout",
     "output_type": "stream",
     "text": [
      "new small subset data saved, with products with > 50 ratings and users with > 40 ratings. Data shape is (62210, 4)\n"
     ]
    }
   ],
   "source": [
    "small_data(products=50,users=40)"
   ]
  },
  {
   "cell_type": "code",
   "execution_count": 2,
   "metadata": {},
   "outputs": [],
   "source": [
    "from Electronics import Electronics\n",
    "def LoadData():\n",
    "    ml = Electronics()\n",
    "    print(\"Loading product ratings...\")\n",
    "    data = ml.loadElectronics()\n",
    "    print(\"\\nComputing product popularity ranks so we can measure novelty later...\")\n",
    "    rankings = ml.getPopularityRanks()\n",
    "    return (ml, data, rankings)\n",
    "\n",
    "np.random.seed(0)\n",
    "random.seed(0)"
   ]
  },
  {
   "cell_type": "code",
   "execution_count": 3,
   "metadata": {},
   "outputs": [
    {
     "name": "stdout",
     "output_type": "stream",
     "text": [
      "Loading product ratings...\n",
      "\n",
      "Computing product popularity ranks so we can measure novelty later...\n"
     ]
    }
   ],
   "source": [
    "(ml, evaluationData, rankings) = LoadData()"
   ]
  },
  {
   "cell_type": "code",
   "execution_count": 4,
   "metadata": {},
   "outputs": [
    {
     "name": "stdout",
     "output_type": "stream",
     "text": [
      "Estimating biases using als...\n",
      "Computing the cosine similarity matrix...\n",
      "Done computing similarity matrix.\n"
     ]
    }
   ],
   "source": [
    "evaluator = Evaluator(evaluationData, rankings)"
   ]
  },
  {
   "cell_type": "code",
   "execution_count": 5,
   "metadata": {},
   "outputs": [],
   "source": [
    "SVD = SVD()\n",
    "evaluator.AddAlgorithm(SVD, \"SVD\")"
   ]
  },
  {
   "cell_type": "code",
   "execution_count": 6,
   "metadata": {},
   "outputs": [],
   "source": [
    "SVDPlusPlus = SVDpp()\n",
    "evaluator.AddAlgorithm(SVDPlusPlus, \"SVD++\")"
   ]
  },
  {
   "cell_type": "code",
   "execution_count": 7,
   "metadata": {},
   "outputs": [],
   "source": [
    "Random = NormalPredictor()\n",
    "evaluator.AddAlgorithm(Random, \"Random\")"
   ]
  },
  {
   "cell_type": "code",
   "execution_count": 8,
   "metadata": {},
   "outputs": [
    {
     "name": "stdout",
     "output_type": "stream",
     "text": [
      "Evaluating  SVD ...\n",
      "Evaluating accuracy...\n",
      "Analysis complete.\n",
      "Evaluating  SVD++ ...\n",
      "Evaluating accuracy...\n",
      "Analysis complete.\n",
      "Evaluating  Random ...\n",
      "Evaluating accuracy...\n",
      "Analysis complete.\n",
      "\n",
      "\n",
      "Algorithm  RMSE       MAE       \n",
      "SVD        0.9448     0.6919    \n",
      "SVD++      0.9439     0.6860    \n",
      "Random     1.2996     0.9667    \n",
      "\n",
      "Legend:\n",
      "\n",
      "RMSE:      Root Mean Squared Error. Lower values mean better accuracy.\n",
      "MAE:       Mean Absolute Error. Lower values mean better accuracy.\n",
      "\n",
      "Using recommender  SVD\n",
      "\n",
      "Building recommendation model...\n",
      "Computing recommendations...\n",
      "\n",
      "We recommend:\n",
      "B00316263Y 4.504822268280972\n",
      "B001342KM8 4.501894956521481\n",
      "B00005LEN4 4.472139583636699\n",
      "B00BQ4F9ZA 4.443815976724612\n",
      "B00BF9MUAS 4.4420551491407725\n",
      "B0000BZL1P 4.4329846845425\n",
      "B00009R94Q 4.424687768303125\n",
      "B00B9KOCYA 4.422850058960577\n",
      "B000M2TAN4 4.422758505881866\n",
      "B001NTFAOS 4.415119207704956\n",
      "\n",
      "Using recommender  SVD++\n",
      "\n",
      "Building recommendation model...\n",
      "Computing recommendations...\n",
      "\n",
      "We recommend:\n",
      "B0002LEMWE 4.7166946944026735\n",
      "B000AY5Y5W 4.583845136995489\n",
      "B0033PRWSW 4.566284084668167\n",
      "B00104XCVO 4.55759352987436\n",
      "B003VAHYNC 4.520115925617509\n",
      "B000053HH5 4.520098398179932\n",
      "B000NP3DJW 4.469545858744262\n",
      "B002WR7VSS 4.468755174321826\n",
      "B000JV9LUK 4.460055867620289\n",
      "B00029U1DK 4.456840826928535\n",
      "\n",
      "Using recommender  Random\n",
      "\n",
      "Building recommendation model...\n",
      "Computing recommendations...\n",
      "\n",
      "We recommend:\n",
      "1400501466 5\n",
      "1400599997 5\n",
      "9575871979 5\n",
      "B00000J05A 5\n",
      "B00000J08Q 5\n",
      "B00000J4EY 5\n",
      "B00000JBHP 5\n",
      "B00000JCTO 5\n",
      "B00000JI4F 5\n",
      "B00001P4XH 5\n"
     ]
    }
   ],
   "source": [
    "evaluator.Evaluate(False)\n",
    "\n",
    "evaluator.SampleTopNRecs(ml)"
   ]
  },
  {
   "cell_type": "code",
   "execution_count": 9,
   "metadata": {},
   "outputs": [
    {
     "name": "stdout",
     "output_type": "stream",
     "text": [
      "Evaluating  SVD ...\n",
      "Evaluating accuracy...\n",
      "Evaluating top-N with leave-one-out...\n",
      "Computing hit-rate and rank metrics...\n",
      "Computing recommendations with full data set...\n",
      "Analyzing coverage, diversity, and novelty...\n",
      "Computing the cosine similarity matrix...\n",
      "Done computing similarity matrix.\n",
      "Analysis complete.\n",
      "Evaluating  SVD++ ...\n",
      "Evaluating accuracy...\n",
      "Evaluating top-N with leave-one-out...\n",
      "Computing hit-rate and rank metrics...\n",
      "Computing recommendations with full data set...\n",
      "Analyzing coverage, diversity, and novelty...\n",
      "Computing the cosine similarity matrix...\n",
      "Done computing similarity matrix.\n",
      "Analysis complete.\n",
      "Evaluating  Random ...\n",
      "Evaluating accuracy...\n",
      "Evaluating top-N with leave-one-out...\n",
      "Computing hit-rate and rank metrics...\n",
      "Computing recommendations with full data set...\n",
      "Analyzing coverage, diversity, and novelty...\n",
      "Computing the cosine similarity matrix...\n",
      "Done computing similarity matrix.\n",
      "Analysis complete.\n",
      "\n",
      "\n",
      "Algorithm  RMSE       MAE        HR         cHR        ARHR       Coverage   Diversity  Novelty   \n",
      "SVD        0.9450     0.6913     0.0050     0.0050     0.0016     0.9950     0.6444     1260.5322 \n",
      "SVD++      0.9466     0.6868     0.0070     0.0070     0.0033     0.9980     0.6884     1381.9419 \n",
      "Random     1.3022     0.9735     0.0000     0.0000     0.0000     1.0000     0.9744     7035.0600 \n",
      "\n",
      "Legend:\n",
      "\n",
      "RMSE:      Root Mean Squared Error. Lower values mean better accuracy.\n",
      "MAE:       Mean Absolute Error. Lower values mean better accuracy.\n",
      "HR:        Hit Rate; how often we are able to recommend a left-out rating. Higher is better.\n",
      "cHR:       Cumulative Hit Rate; hit rate, confined to ratings above a certain threshold. Higher is better.\n",
      "ARHR:      Average Reciprocal Hit Rank - Hit rate that takes the ranking into account. Higher is better.\n",
      "Coverage:  Ratio of users for whom recommendations above a certain threshold exist. Higher is better.\n",
      "Diversity: 1-S, where S is the average similarity score between every possible pair of recommendations\n",
      "           for a given user. Higher means more diverse.\n",
      "Novelty:   Average popularity rank of recommended items. Higher means more novel.\n",
      "\n",
      "Using recommender  SVD\n",
      "\n",
      "Building recommendation model...\n",
      "Computing recommendations...\n",
      "\n",
      "We recommend:\n",
      "B0052SCU8U 4.577492701781023\n",
      "B003ES5ZR8 4.484633937655968\n",
      "B001QUA6RA 4.483206085658259\n",
      "B000053HC5 4.450086077018456\n",
      "B0076W9Q5A 4.445417022445786\n",
      "B008EQZ25K 4.435565019515191\n",
      "B000M2TAN4 4.434377536432242\n",
      "B00077AA5Q 4.429516380683844\n",
      "B005HMKKH4 4.417768366525823\n",
      "B00029U1DK 4.4118579520514025\n",
      "\n",
      "Using recommender  SVD++\n",
      "\n",
      "Building recommendation model...\n",
      "Computing recommendations...\n",
      "\n",
      "We recommend:\n",
      "B003DZJQQI 4.556664192471272\n",
      "B00FR6VL50 4.5550293004958675\n",
      "B00316263Y 4.530119477108602\n",
      "B0016XIQ1U 4.529666887209323\n",
      "B003CJTQJC 4.5225823931422084\n",
      "B005LDLP8W 4.515320923565156\n",
      "B000V5P90K 4.508279766617645\n",
      "B003ES5ZR8 4.491012935896975\n",
      "B003LVZO8S 4.485075870477816\n",
      "B0052SCU8U 4.483715388633265\n",
      "\n",
      "Using recommender  Random\n",
      "\n",
      "Building recommendation model...\n",
      "Computing recommendations...\n",
      "\n",
      "We recommend:\n",
      "1400501466 5\n",
      "1400501776 5\n",
      "1400532655 5\n",
      "140053271X 5\n",
      "9573212919 5\n",
      "9575871979 5\n",
      "B000001ON6 5\n",
      "B00000J1EP 5\n",
      "B00000J1F3 5\n",
      "B00000J1QR 5\n"
     ]
    }
   ],
   "source": [
    "evaluator.Evaluate(True)\n",
    "\n",
    "evaluator.SampleTopNRecs(ml)"
   ]
  },
  {
   "cell_type": "code",
   "execution_count": null,
   "metadata": {},
   "outputs": [],
   "source": []
  }
 ],
 "metadata": {
  "interpreter": {
   "hash": "aee8b7b246df8f9039afb4144a1f6fd8d2ca17a180786b69acc140d282b71a49"
  },
  "kernelspec": {
   "display_name": "Python 3.9.7 64-bit",
   "name": "python3"
  },
  "language_info": {
   "codemirror_mode": {
    "name": "ipython",
    "version": 3
   },
   "file_extension": ".py",
   "mimetype": "text/x-python",
   "name": "python",
   "nbconvert_exporter": "python",
   "pygments_lexer": "ipython3",
   "version": "3.9.7"
  },
  "orig_nbformat": 4
 },
 "nbformat": 4,
 "nbformat_minor": 2
}
